{
  "nbformat": 4,
  "nbformat_minor": 0,
  "metadata": {
    "colab": {
      "provenance": []
    },
    "kernelspec": {
      "name": "python3",
      "display_name": "Python 3"
    },
    "accelerator": "GPU",
    "gpuClass": "standard"
  },
  "cells": [
    {
      "cell_type": "markdown",
      "metadata": {
        "id": "R4GTTkb7sy-K"
      },
      "source": [
        "**YOLO v4 - PyTorch - UDXLAV**"
      ]
    },
    {
      "cell_type": "markdown",
      "metadata": {
        "id": "5ZtdqDHWt-w4"
      },
      "source": [
        "# Step 01. Check the colab enviroment"
      ]
    },
    {
      "cell_type": "markdown",
      "metadata": {
        "id": "Jn7wDVWrxwmE"
      },
      "source": [
        "The GPUs available in Colab often include Nvidia K80s, T4s, P4s and P100s."
      ]
    },
    {
      "cell_type": "code",
      "metadata": {
        "id": "tbUvI-FzuDnW",
        "colab": {
          "base_uri": "https://localhost:8080/"
        },
        "outputId": "c03fa233-54c4-47bb-e440-4e67c58b1446"
      },
      "source": [
        "import tensorflow as tf\n",
        "print(tf.test.gpu_device_name())\n",
        "\n",
        "from tensorflow.python.client import device_lib\n",
        "print(device_lib.list_local_devices())\n",
        "\n",
        "!cat /proc/meminfo"
      ],
      "execution_count": null,
      "outputs": [
        {
          "output_type": "stream",
          "name": "stdout",
          "text": [
            "/device:GPU:0\n",
            "[name: \"/device:CPU:0\"\n",
            "device_type: \"CPU\"\n",
            "memory_limit: 268435456\n",
            "locality {\n",
            "}\n",
            "incarnation: 5244593014352155762\n",
            "xla_global_id: -1\n",
            ", name: \"/device:GPU:0\"\n",
            "device_type: \"GPU\"\n",
            "memory_limit: 14415560704\n",
            "locality {\n",
            "  bus_id: 1\n",
            "  links {\n",
            "  }\n",
            "}\n",
            "incarnation: 15519346500811475915\n",
            "physical_device_desc: \"device: 0, name: Tesla T4, pci bus id: 0000:00:04.0, compute capability: 7.5\"\n",
            "xla_global_id: 416903419\n",
            "]\n",
            "MemTotal:       13297228 kB\n",
            "MemFree:         8386160 kB\n",
            "MemAvailable:   11903868 kB\n",
            "Buffers:          331788 kB\n",
            "Cached:          3141328 kB\n",
            "SwapCached:            0 kB\n",
            "Active:           536280 kB\n",
            "Inactive:        4022504 kB\n",
            "Active(anon):        896 kB\n",
            "Inactive(anon):   855172 kB\n",
            "Active(file):     535384 kB\n",
            "Inactive(file):  3167332 kB\n",
            "Unevictable:           0 kB\n",
            "Mlocked:               0 kB\n",
            "SwapTotal:             0 kB\n",
            "SwapFree:              0 kB\n",
            "Dirty:              8028 kB\n",
            "Writeback:             0 kB\n",
            "AnonPages:       1085712 kB\n",
            "Mapped:           658112 kB\n",
            "Shmem:             11432 kB\n",
            "KReclaimable:     112888 kB\n",
            "Slab:             153168 kB\n",
            "SReclaimable:     112888 kB\n",
            "SUnreclaim:        40280 kB\n",
            "KernelStack:        4400 kB\n",
            "PageTables:        10292 kB\n",
            "NFS_Unstable:          0 kB\n",
            "Bounce:                0 kB\n",
            "WritebackTmp:          0 kB\n",
            "CommitLimit:     6648612 kB\n",
            "Committed_AS:    3316520 kB\n",
            "VmallocTotal:   34359738367 kB\n",
            "VmallocUsed:       52864 kB\n",
            "VmallocChunk:          0 kB\n",
            "Percpu:             1344 kB\n",
            "HardwareCorrupted:     0 kB\n",
            "AnonHugePages:         0 kB\n",
            "ShmemHugePages:        0 kB\n",
            "ShmemPmdMapped:        0 kB\n",
            "FileHugePages:         0 kB\n",
            "FilePmdMapped:         0 kB\n",
            "CmaTotal:              0 kB\n",
            "CmaFree:               0 kB\n",
            "HugePages_Total:       0\n",
            "HugePages_Free:        0\n",
            "HugePages_Rsvd:        0\n",
            "HugePages_Surp:        0\n",
            "Hugepagesize:       2048 kB\n",
            "Hugetlb:               0 kB\n",
            "DirectMap4k:      215872 kB\n",
            "DirectMap2M:     6072320 kB\n",
            "DirectMap1G:     9437184 kB\n"
          ]
        }
      ]
    },
    {
      "cell_type": "markdown",
      "source": [
        "Install the newest numpy version"
      ],
      "metadata": {
        "id": "-_VJeEX7ucdw"
      }
    },
    {
      "cell_type": "code",
      "source": [
        "!pip install -U numpy"
      ],
      "metadata": {
        "colab": {
          "base_uri": "https://localhost:8080/",
          "height": 489
        },
        "id": "IlIgS9XEKi3m",
        "outputId": "76cb0e19-a3fd-4c30-dd4e-0f089e2ecabb"
      },
      "execution_count": null,
      "outputs": [
        {
          "output_type": "stream",
          "name": "stdout",
          "text": [
            "Looking in indexes: https://pypi.org/simple, https://us-python.pkg.dev/colab-wheels/public/simple/\n",
            "Requirement already satisfied: numpy in /usr/local/lib/python3.8/dist-packages (1.18.2)\n",
            "Collecting numpy\n",
            "  Downloading numpy-1.23.5-cp38-cp38-manylinux_2_17_x86_64.manylinux2014_x86_64.whl (17.1 MB)\n",
            "\u001b[K     |████████████████████████████████| 17.1 MB 34.1 MB/s \n",
            "\u001b[?25hInstalling collected packages: numpy\n",
            "  Attempting uninstall: numpy\n",
            "    Found existing installation: numpy 1.18.2\n",
            "    Uninstalling numpy-1.18.2:\n",
            "      Successfully uninstalled numpy-1.18.2\n",
            "\u001b[31mERROR: pip's dependency resolver does not currently take into account all the packages that are installed. This behaviour is the source of the following dependency conflicts.\n",
            "torchvision 0.13.1+cu113 requires torch==1.12.1, but you have torch 1.4.0 which is incompatible.\n",
            "torchtext 0.13.1 requires torch==1.12.1, but you have torch 1.4.0 which is incompatible.\n",
            "scipy 1.7.3 requires numpy<1.23.0,>=1.16.5, but you have numpy 1.23.5 which is incompatible.\n",
            "plotnine 0.8.0 requires matplotlib>=3.1.1, but you have matplotlib 2.2.3 which is incompatible.\n",
            "mizani 0.7.3 requires matplotlib>=3.1.1, but you have matplotlib 2.2.3 which is incompatible.\n",
            "fastai 2.7.10 requires torch<1.14,>=1.7, but you have torch 1.4.0 which is incompatible.\n",
            "datascience 0.17.5 requires matplotlib>=3.0.0, but you have matplotlib 2.2.3 which is incompatible.\n",
            "arviz 0.12.1 requires matplotlib>=3.0, but you have matplotlib 2.2.3 which is incompatible.\u001b[0m\n",
            "Successfully installed numpy-1.23.5\n"
          ]
        },
        {
          "output_type": "display_data",
          "data": {
            "application/vnd.colab-display-data+json": {
              "pip_warning": {
                "packages": [
                  "numpy"
                ]
              }
            }
          },
          "metadata": {}
        }
      ]
    },
    {
      "cell_type": "code",
      "metadata": {
        "id": "9r0Ab20Iu3iQ",
        "colab": {
          "base_uri": "https://localhost:8080/"
        },
        "outputId": "cbbbba28-3805-417b-f8dc-a1f7d6be6d5e"
      },
      "source": [
        "import torch\n",
        "\n",
        "print(torch.cuda.current_device())\n",
        "print(torch.cuda.device(0))\n",
        "print(torch.cuda.device_count())\n",
        "print(torch.cuda.get_device_name(0))\n",
        "print(torch.cuda.is_available())\n",
        "\n",
        "# setting device on GPU if available, else CPU\n",
        "device = torch.device('cuda' if torch.cuda.is_available() else 'cpu')\n",
        "print('Using device:', device)\n",
        "print()\n",
        "\n",
        "# additional info when using cuda\n",
        "if device.type == 'cuda':\n",
        "    print(torch.cuda.get_device_name(0))\n",
        "    print('Memory Usage:')\n",
        "    print('Allocated:', round(torch.cuda.memory_allocated(0)/1024**3,1), 'GB')\n",
        "    print('Cached:   ', round(torch.cuda.memory_cached(0)/1024**3,1), 'GB')"
      ],
      "execution_count": null,
      "outputs": [
        {
          "output_type": "stream",
          "name": "stdout",
          "text": [
            "0\n",
            "<torch.cuda.device object at 0x7f3cca9b5f70>\n",
            "1\n",
            "Tesla T4\n",
            "True\n",
            "Using device: cuda\n",
            "\n",
            "Tesla T4\n",
            "Memory Usage:\n",
            "Allocated: 0.0 GB\n",
            "Cached:    0.0 GB\n"
          ]
        },
        {
          "output_type": "stream",
          "name": "stderr",
          "text": [
            "/usr/local/lib/python3.8/dist-packages/torch/cuda/memory.py:391: FutureWarning: torch.cuda.memory_cached has been renamed to torch.cuda.memory_reserved\n",
            "  warnings.warn(\n"
          ]
        }
      ]
    },
    {
      "cell_type": "markdown",
      "metadata": {
        "id": "kW_1LOkJsqRv"
      },
      "source": [
        "# Step 02. Mount drive"
      ]
    },
    {
      "cell_type": "code",
      "metadata": {
        "id": "tPgx3t2PG_xR",
        "colab": {
          "base_uri": "https://localhost:8080/"
        },
        "outputId": "75b5a6d0-1b04-4150-a44f-0834d303a857"
      },
      "source": [
        "from google.colab import drive\n",
        "drive.mount('/content/gdrive')"
      ],
      "execution_count": null,
      "outputs": [
        {
          "output_type": "stream",
          "name": "stdout",
          "text": [
            "Mounted at /content/gdrive\n"
          ]
        }
      ]
    },
    {
      "cell_type": "markdown",
      "metadata": {
        "id": "aG19VvbPs87D"
      },
      "source": [
        "# Step 03. Download YOLOv4 PyTorch repo"
      ]
    },
    {
      "cell_type": "code",
      "metadata": {
        "id": "-XWlYuAEHkgb",
        "colab": {
          "base_uri": "https://localhost:8080/"
        },
        "outputId": "6de0a0e6-1777-42b8-b08c-0fc6e8b65b46"
      },
      "source": [
        "%cd /content/gdrive/My\\ Drive\n",
        "%mkdir colab\n",
        "%cd /content/gdrive/My\\ Drive/colab\n",
        "!rm -rf pytorch-YOLOv4\n",
        "!git clone https://github.com/nmhunguni/pytorch-YOLOv4\n",
        "%cd /content/gdrive/My\\ Drive/colab/pytorch-YOLOv4"
      ],
      "execution_count": null,
      "outputs": [
        {
          "output_type": "stream",
          "name": "stdout",
          "text": [
            "/content/gdrive/My Drive\n",
            "mkdir: cannot create directory ‘colab’: File exists\n",
            "/content/gdrive/My Drive/colab\n",
            "Cloning into 'pytorch-YOLOv4'...\n",
            "remote: Enumerating objects: 400, done.\u001b[K\n",
            "remote: Total 400 (delta 0), reused 0 (delta 0), pack-reused 400\u001b[K\n",
            "Receiving objects: 100% (400/400), 923.43 KiB | 1.16 MiB/s, done.\n",
            "Resolving deltas: 100% (226/226), done.\n",
            "/content/gdrive/My Drive/colab/pytorch-YOLOv4\n"
          ]
        }
      ]
    },
    {
      "cell_type": "markdown",
      "metadata": {
        "id": "zPf_xIkEtEB9"
      },
      "source": [
        "# Step 04. Set up YOLOv4 PyTorch Environment"
      ]
    },
    {
      "cell_type": "code",
      "metadata": {
        "id": "YWOyZlTuI4qf",
        "colab": {
          "base_uri": "https://localhost:8080/",
          "height": 1000
        },
        "outputId": "a8838ed3-a624-4c66-f301-b2744e56ec8b"
      },
      "source": [
        "!pip install -r requirements.txt"
      ],
      "execution_count": null,
      "outputs": [
        {
          "output_type": "stream",
          "name": "stdout",
          "text": [
            "Looking in indexes: https://pypi.org/simple, https://us-python.pkg.dev/colab-wheels/public/simple/\n",
            "Collecting numpy==1.18.2\n",
            "  Downloading numpy-1.18.2-cp38-cp38-manylinux1_x86_64.whl (20.6 MB)\n",
            "\u001b[K     |████████████████████████████████| 20.6 MB 7.8 MB/s \n",
            "\u001b[?25hCollecting torch==1.4.0\n",
            "  Downloading torch-1.4.0-cp38-cp38-manylinux1_x86_64.whl (753.4 MB)\n",
            "\u001b[K     |████████████████████████████████| 753.4 MB 20 kB/s \n",
            "\u001b[?25hCollecting scikit_image==0.16.2\n",
            "  Downloading scikit_image-0.16.2-cp38-cp38-manylinux1_x86_64.whl (26.5 MB)\n",
            "\u001b[K     |████████████████████████████████| 26.5 MB 1.2 MB/s \n",
            "\u001b[?25hCollecting matplotlib==2.2.3\n",
            "  Downloading matplotlib-2.2.3.tar.gz (36.8 MB)\n",
            "\u001b[K     |████████████████████████████████| 36.8 MB 97.0 MB/s \n",
            "\u001b[?25hCollecting tqdm==4.43.0\n",
            "  Downloading tqdm-4.43.0-py2.py3-none-any.whl (59 kB)\n",
            "\u001b[K     |████████████████████████████████| 59 kB 4.2 MB/s \n",
            "\u001b[?25hCollecting easydict==1.9\n",
            "  Downloading easydict-1.9.tar.gz (6.4 kB)\n",
            "Requirement already satisfied: Pillow==7.1.2 in /usr/local/lib/python3.8/dist-packages (from -r requirements.txt (line 7)) (7.1.2)\n",
            "Collecting tensorboardX\n",
            "  Downloading tensorboardX-2.5.1-py2.py3-none-any.whl (125 kB)\n",
            "\u001b[K     |████████████████████████████████| 125 kB 67.6 MB/s \n",
            "\u001b[?25hRequirement already satisfied: PyWavelets>=0.4.0 in /usr/local/lib/python3.8/dist-packages (from scikit_image==0.16.2->-r requirements.txt (line 3)) (1.3.0)\n",
            "Requirement already satisfied: networkx>=2.0 in /usr/local/lib/python3.8/dist-packages (from scikit_image==0.16.2->-r requirements.txt (line 3)) (2.6.3)\n",
            "Requirement already satisfied: scipy>=0.19.0 in /usr/local/lib/python3.8/dist-packages (from scikit_image==0.16.2->-r requirements.txt (line 3)) (1.7.3)\n",
            "Requirement already satisfied: imageio>=2.3.0 in /usr/local/lib/python3.8/dist-packages (from scikit_image==0.16.2->-r requirements.txt (line 3)) (2.9.0)\n",
            "Requirement already satisfied: cycler>=0.10 in /usr/local/lib/python3.8/dist-packages (from matplotlib==2.2.3->-r requirements.txt (line 4)) (0.11.0)\n",
            "Requirement already satisfied: pyparsing!=2.0.4,!=2.1.2,!=2.1.6,>=2.0.1 in /usr/local/lib/python3.8/dist-packages (from matplotlib==2.2.3->-r requirements.txt (line 4)) (3.0.9)\n",
            "Requirement already satisfied: python-dateutil>=2.1 in /usr/local/lib/python3.8/dist-packages (from matplotlib==2.2.3->-r requirements.txt (line 4)) (2.8.2)\n",
            "Requirement already satisfied: pytz in /usr/local/lib/python3.8/dist-packages (from matplotlib==2.2.3->-r requirements.txt (line 4)) (2022.6)\n",
            "Requirement already satisfied: six>=1.10 in /usr/local/lib/python3.8/dist-packages (from matplotlib==2.2.3->-r requirements.txt (line 4)) (1.15.0)\n",
            "Requirement already satisfied: kiwisolver>=1.0.1 in /usr/local/lib/python3.8/dist-packages (from matplotlib==2.2.3->-r requirements.txt (line 4)) (1.4.4)\n",
            "Requirement already satisfied: protobuf<=3.20.1,>=3.8.0 in /usr/local/lib/python3.8/dist-packages (from tensorboardX->-r requirements.txt (line 8)) (3.19.6)\n",
            "Building wheels for collected packages: matplotlib, easydict\n",
            "  Building wheel for matplotlib (setup.py) ... \u001b[?25l\u001b[?25hdone\n",
            "  Created wheel for matplotlib: filename=matplotlib-2.2.3-cp38-cp38-linux_x86_64.whl size=10554123 sha256=840f2d283891d0615a861b4c8e50c596fc04472561ce95fa4503875a5e8ef365\n",
            "  Stored in directory: /root/.cache/pip/wheels/32/9e/42/1c91b0d0aa4bc87be038ee6aa88f303df10286c165feaa9823\n",
            "  Building wheel for easydict (setup.py) ... \u001b[?25l\u001b[?25hdone\n",
            "  Created wheel for easydict: filename=easydict-1.9-py3-none-any.whl size=6360 sha256=85d5e96ca71db2d183e62291c28cf7ceb871660e49645592b960bb2c57984ca1\n",
            "  Stored in directory: /root/.cache/pip/wheels/d3/e0/e9/305e348717e399665119bd012510d51ff4f22d709ff60c3096\n",
            "Successfully built matplotlib easydict\n",
            "Installing collected packages: numpy, matplotlib, tqdm, torch, tensorboardX, scikit-image, easydict\n",
            "  Attempting uninstall: numpy\n",
            "    Found existing installation: numpy 1.21.6\n",
            "    Uninstalling numpy-1.21.6:\n",
            "      Successfully uninstalled numpy-1.21.6\n",
            "  Attempting uninstall: matplotlib\n",
            "    Found existing installation: matplotlib 3.2.2\n",
            "    Uninstalling matplotlib-3.2.2:\n",
            "      Successfully uninstalled matplotlib-3.2.2\n",
            "  Attempting uninstall: tqdm\n",
            "    Found existing installation: tqdm 4.64.1\n",
            "    Uninstalling tqdm-4.64.1:\n",
            "      Successfully uninstalled tqdm-4.64.1\n",
            "  Attempting uninstall: torch\n",
            "    Found existing installation: torch 1.12.1+cu113\n",
            "    Uninstalling torch-1.12.1+cu113:\n",
            "      Successfully uninstalled torch-1.12.1+cu113\n",
            "  Attempting uninstall: scikit-image\n",
            "    Found existing installation: scikit-image 0.18.3\n",
            "    Uninstalling scikit-image-0.18.3:\n",
            "      Successfully uninstalled scikit-image-0.18.3\n",
            "  Attempting uninstall: easydict\n",
            "    Found existing installation: easydict 1.10\n",
            "    Uninstalling easydict-1.10:\n",
            "      Successfully uninstalled easydict-1.10\n",
            "\u001b[31mERROR: pip's dependency resolver does not currently take into account all the packages that are installed. This behaviour is the source of the following dependency conflicts.\n",
            "xarray-einstats 0.2.2 requires numpy>=1.21, but you have numpy 1.18.2 which is incompatible.\n",
            "torchvision 0.13.1+cu113 requires torch==1.12.1, but you have torch 1.4.0 which is incompatible.\n",
            "torchtext 0.13.1 requires torch==1.12.1, but you have torch 1.4.0 which is incompatible.\n",
            "torchaudio 0.12.1+cu113 requires torch==1.12.1, but you have torch 1.4.0 which is incompatible.\n",
            "tensorflow 2.9.2 requires numpy>=1.20, but you have numpy 1.18.2 which is incompatible.\n",
            "tables 3.7.0 requires numpy>=1.19.0, but you have numpy 1.18.2 which is incompatible.\n",
            "plotnine 0.8.0 requires matplotlib>=3.1.1, but you have matplotlib 2.2.3 which is incompatible.\n",
            "plotnine 0.8.0 requires numpy>=1.19.0, but you have numpy 1.18.2 which is incompatible.\n",
            "panel 0.12.1 requires tqdm>=4.48.0, but you have tqdm 4.43.0 which is incompatible.\n",
            "mizani 0.7.3 requires matplotlib>=3.1.1, but you have matplotlib 2.2.3 which is incompatible.\n",
            "kapre 0.3.7 requires numpy>=1.18.5, but you have numpy 1.18.2 which is incompatible.\n",
            "jaxlib 0.3.25+cuda11.cudnn805 requires numpy>=1.20, but you have numpy 1.18.2 which is incompatible.\n",
            "jax 0.3.25 requires numpy>=1.20, but you have numpy 1.18.2 which is incompatible.\n",
            "fastai 2.7.10 requires torch<1.14,>=1.7, but you have torch 1.4.0 which is incompatible.\n",
            "datascience 0.17.5 requires matplotlib>=3.0.0, but you have matplotlib 2.2.3 which is incompatible.\n",
            "cupy-cuda11x 11.0.0 requires numpy<1.26,>=1.20, but you have numpy 1.18.2 which is incompatible.\n",
            "cmdstanpy 1.0.8 requires numpy>=1.21, but you have numpy 1.18.2 which is incompatible.\n",
            "arviz 0.12.1 requires matplotlib>=3.0, but you have matplotlib 2.2.3 which is incompatible.\u001b[0m\n",
            "Successfully installed easydict-1.9 matplotlib-2.2.3 numpy-1.18.2 scikit-image-0.16.2 tensorboardX-2.5.1 torch-1.4.0 tqdm-4.43.0\n"
          ]
        },
        {
          "output_type": "display_data",
          "data": {
            "application/vnd.colab-display-data+json": {
              "pip_warning": {
                "packages": [
                  "matplotlib",
                  "mpl_toolkits",
                  "numpy",
                  "torch",
                  "tqdm"
                ]
              }
            }
          },
          "metadata": {}
        }
      ]
    },
    {
      "cell_type": "markdown",
      "metadata": {
        "id": "laE8i6zRtLeX"
      },
      "source": [
        "# Step 05. Prepare data"
      ]
    },
    {
      "cell_type": "code",
      "metadata": {
        "id": "EUFtCPRHrGL6",
        "colab": {
          "base_uri": "https://localhost:8080/"
        },
        "outputId": "74193bdf-9dcd-458b-805c-e50733a12573"
      },
      "source": [
        "# Step 04.1.1 Unzip dataset / manual in Google Drive\n",
        "\n",
        "!rm -rf /content/gdrive/My\\ Drive/colab/pytorch-YOLOv4/data_unzip\n",
        "!unzip /content/gdrive/My\\ Drive/colab/data/ChessPieces.v1-416x416auto-orient.yolov4pytorch.zip -d /content/gdrive/My\\ Drive/colab/pytorch-YOLOv4/data_unzip"
      ],
      "execution_count": null,
      "outputs": [
        {
          "output_type": "stream",
          "name": "stdout",
          "text": [
            "Archive:  /content/gdrive/My Drive/colab/data/ChessPieces.v1-416x416auto-orient.yolov4pytorch.zip\n",
            " extracting: /content/gdrive/My Drive/colab/pytorch-YOLOv4/data_unzip/test/e4583d082076b2b549b3736ad1b193c9_jpg.rf.55af0c9be903e4dda4a002af87bdeaac.jpg  \n",
            " extracting: /content/gdrive/My Drive/colab/pytorch-YOLOv4/data_unzip/test/5a35ba2ec3e0d0b2b12b1758a8ac29aa_jpg.rf.280f9940defacbb5d840aef65a9257e5.jpg  \n",
            " extracting: /content/gdrive/My Drive/colab/pytorch-YOLOv4/data_unzip/test/33afc6085c4d5a8f2421c1adc5a1edbf_jpg.rf.642c5b5370e5900cae860045ade36211.jpg  \n",
            " extracting: /content/gdrive/My Drive/colab/pytorch-YOLOv4/data_unzip/test/b9402881fa580d0eb8b9b98845417550_jpg.rf.238f51ed1096107324224ade76408bdb.jpg  \n",
            " extracting: /content/gdrive/My Drive/colab/pytorch-YOLOv4/data_unzip/test/e0d38d159ad3a801d0304d7e275812cc_jpg.rf.0cd06a940ccc9894109d83792535e3eb.jpg  \n",
            " extracting: /content/gdrive/My Drive/colab/pytorch-YOLOv4/data_unzip/test/2f6fb003bb89cd401322a535acb42f65_jpg.rf.49b342a7b1f6de3f0e328beaf094a945.jpg  \n",
            " extracting: /content/gdrive/My Drive/colab/pytorch-YOLOv4/data_unzip/test/7a34d8620235048917b28bcfd3b5572b_jpg.rf.182f59c512dcb99ed53da97dfe2d3d85.jpg  \n",
            " extracting: /content/gdrive/My Drive/colab/pytorch-YOLOv4/data_unzip/test/0b47311f426ff926578c9d738d683e76_jpg.rf.58093f799a6f56c30830617ca44745ca.jpg  \n",
            " extracting: /content/gdrive/My Drive/colab/pytorch-YOLOv4/data_unzip/test/cfc306bf86176b92ffc1afbb98d7896f_jpg.rf.2de0d2da0025b5993598f47fb1d51d10.jpg  \n",
            " extracting: /content/gdrive/My Drive/colab/pytorch-YOLOv4/data_unzip/test/a3863d0be6002c21b20ac88817b2c56f_jpg.rf.ba355f57305a2236db1a9cfb0ac79989.jpg  \n",
            " extracting: /content/gdrive/My Drive/colab/pytorch-YOLOv4/data_unzip/test/ba6289667457a113c1a753a87c041c51_jpg.rf.31874cd941dfda8ac86b77fdc97f4931.jpg  \n",
            " extracting: /content/gdrive/My Drive/colab/pytorch-YOLOv4/data_unzip/test/b4ff4132c8c85da97d8bf9a2a4ed3e3d_jpg.rf.445b4d70e01a3d742ecf0b7756e636da.jpg  \n",
            " extracting: /content/gdrive/My Drive/colab/pytorch-YOLOv4/data_unzip/test/c5a012dfa72816098d23fc8baee67834_jpg.rf.8b0e56e40c7c2429ce0e56797eb55c88.jpg  \n",
            " extracting: /content/gdrive/My Drive/colab/pytorch-YOLOv4/data_unzip/test/fdcd6ada676799da8a870f58fdf548db_jpg.rf.bdda51ee840f036af9280598f08b1879.jpg  \n",
            " extracting: /content/gdrive/My Drive/colab/pytorch-YOLOv4/data_unzip/test/cf4769d0586df6b3fb0dc618d9f8abe6_jpg.rf.699ec58d7d2447b4d73b748c39525b2d.jpg  \n",
            " extracting: /content/gdrive/My Drive/colab/pytorch-YOLOv4/data_unzip/test/1c0060ef868bdc326ce5e6389cb6732f_jpg.rf.a07af6147d4a79376c182d2d95c639ec.jpg  \n",
            " extracting: /content/gdrive/My Drive/colab/pytorch-YOLOv4/data_unzip/test/d7887071e972604ddf5940d8eb2702e7_jpg.rf.78288a14dc86417b6d3e798fa7fb5cf3.jpg  \n",
            " extracting: /content/gdrive/My Drive/colab/pytorch-YOLOv4/data_unzip/test/73a38a5c8f8f1b09f093f304660d5326_jpg.rf.b23ca34654408e01ab45b9c780032dfd.jpg  \n",
            " extracting: /content/gdrive/My Drive/colab/pytorch-YOLOv4/data_unzip/test/685b860d412b91f5d4f7f9e643b84452_jpg.rf.4271132b4ce08c4ec0987ab2490e7edc.jpg  \n",
            " extracting: /content/gdrive/My Drive/colab/pytorch-YOLOv4/data_unzip/test/8b457d1c86ad0c8e734b78de2f974fe6_jpg.rf.c2b8260a74f1b24b36c5e5e1cae8ef1d.jpg  \n",
            " extracting: /content/gdrive/My Drive/colab/pytorch-YOLOv4/data_unzip/test/4e3117459d759798537eb52cf5bf534d_jpg.rf.437c663d542c17860c1e82c1fca878e6.jpg  \n",
            " extracting: /content/gdrive/My Drive/colab/pytorch-YOLOv4/data_unzip/test/c4943d83c06a12ad5e0399d19514a4ca_jpg.rf.8197feccc16483d753bdd671cf29a174.jpg  \n",
            " extracting: /content/gdrive/My Drive/colab/pytorch-YOLOv4/data_unzip/test/749e9074a77f8d34d86e2218f26cdab4_jpg.rf.ac8241b790c765e76eb65db0e3239302.jpg  \n",
            " extracting: /content/gdrive/My Drive/colab/pytorch-YOLOv4/data_unzip/test/e4147f3d8819fc5d67a9f72596bd9e47_jpg.rf.61c071896199b2723723ba615ce57cb2.jpg  \n",
            " extracting: /content/gdrive/My Drive/colab/pytorch-YOLOv4/data_unzip/test/8ff752f9ed443e6e49d495abfceb2032_jpg.rf.4d299f90a6d716ab9d8a7d1741c26b62.jpg  \n",
            " extracting: /content/gdrive/My Drive/colab/pytorch-YOLOv4/data_unzip/test/f1a24b6bb778ee11ba33687415aa84f2_jpg.rf.c3f21b35159c24fd853cb1da56f80d6c.jpg  \n",
            " extracting: /content/gdrive/My Drive/colab/pytorch-YOLOv4/data_unzip/train/889c420fb266b8d0e817306110042bda_jpg.rf.187d72f3d58f732ea576641f5c702f61.jpg  \n",
            " extracting: /content/gdrive/My Drive/colab/pytorch-YOLOv4/data_unzip/train/9c153a9c9798dab948d4260eb109b315_jpg.rf.04a431391f78af71e5ebaf9d51d91faf.jpg  \n",
            " extracting: /content/gdrive/My Drive/colab/pytorch-YOLOv4/data_unzip/train/36066ba85572ce99198f1a21c2c8bbff_jpg.rf.1bb4689be2417ff995fbd5e22876c353.jpg  \n",
            " extracting: /content/gdrive/My Drive/colab/pytorch-YOLOv4/data_unzip/train/614811e933a680fd6535ac8bf06bf530_jpg.rf.0b9ea19fb73269b21cf021c584b84aeb.jpg  \n",
            " extracting: /content/gdrive/My Drive/colab/pytorch-YOLOv4/data_unzip/train/699edbacbfee5e6d4d6d2189bc88990a_jpg.rf.21253a833a9f17c4391a96e64b279fd9.jpg  \n",
            " extracting: /content/gdrive/My Drive/colab/pytorch-YOLOv4/data_unzip/train/0f4512d71c096f2699d705792e88fc58_jpg.rf.0971fe35ffe3ebbcc3e2a709de978aec.jpg  \n",
            " extracting: /content/gdrive/My Drive/colab/pytorch-YOLOv4/data_unzip/train/3914be0cea4aa8a6bbd1081ec3b034a7_jpg.rf.1a22ac976f9598278bbbf963909a32ef.jpg  \n",
            " extracting: /content/gdrive/My Drive/colab/pytorch-YOLOv4/data_unzip/train/254f92b18b2a81f88b85e7aed3cabc61_jpg.rf.09fc82bf7878065eb6cad223e60f7f0b.jpg  \n",
            " extracting: /content/gdrive/My Drive/colab/pytorch-YOLOv4/data_unzip/test/b526b661a33ff481231d1342aff2a266_jpg.rf.dd4da31fe7f3f0eac58576f8f2c56f61.jpg  \n",
            " extracting: /content/gdrive/My Drive/colab/pytorch-YOLOv4/data_unzip/train/dd6b5c3cb2d7e77f38f1dfeb2bff0431_jpg.rf.065f8833508d101a1f1449e8fbabc314.jpg  \n",
            " extracting: /content/gdrive/My Drive/colab/pytorch-YOLOv4/data_unzip/train/e79deba8fe520409790b601ad61da4ee_jpg.rf.016bc04dee292f80d1f975931f32bc21.jpg  \n",
            " extracting: /content/gdrive/My Drive/colab/pytorch-YOLOv4/data_unzip/train/49d365236ee4fb6bd982b0f00bff007e_jpg.rf.16bc32d2b40baeabec00c02b2f9d0e84.jpg  \n",
            " extracting: /content/gdrive/My Drive/colab/pytorch-YOLOv4/data_unzip/train/4de23afff63bc169b4ebe547a9c9b692_jpg.rf.0cf789652d85886de3d00b05bef061eb.jpg  \n",
            " extracting: /content/gdrive/My Drive/colab/pytorch-YOLOv4/data_unzip/train/b0f3d66c8be13f5f6aa25b67a06bdcfa_jpg.rf.01b3f3243bf31cb2ea18a89fd58044be.jpg  \n",
            " extracting: /content/gdrive/My Drive/colab/pytorch-YOLOv4/data_unzip/train/f3a5df526393445c6e2d38f66c1f5c27_jpg.rf.09aeba93cdea53cc6a6db62f6056ec35.jpg  \n",
            " extracting: /content/gdrive/My Drive/colab/pytorch-YOLOv4/data_unzip/test/410993714e325a1de3e394ffe860df3a_jpg.rf.ceda8f2165a9e8b314a6278acd02686f.jpg  \n",
            " extracting: /content/gdrive/My Drive/colab/pytorch-YOLOv4/data_unzip/train/cae099fe41d6aa30033d71e433c33c8d_jpg.rf.124529e05c30bf412475f20b8f274f95.jpg  \n",
            " extracting: /content/gdrive/My Drive/colab/pytorch-YOLOv4/data_unzip/train/d0cc2420bce5b14dfd39e55dc3737e57_jpg.rf.0f1c927870242d0e614bd6e320f9969e.jpg  \n",
            " extracting: /content/gdrive/My Drive/colab/pytorch-YOLOv4/data_unzip/test/654bb8835258b26c466b1c19893df451_jpg.rf.e4099f0bbd3b79210414bb32a47b437c.jpg  \n",
            " extracting: /content/gdrive/My Drive/colab/pytorch-YOLOv4/data_unzip/train/1595777dfa66e954ae23655743e24809_jpg.rf.1ce3ed024877808c7e9f12f1f83fefae.jpg  \n",
            " extracting: /content/gdrive/My Drive/colab/pytorch-YOLOv4/data_unzip/train/4d7820ad9fb4fe69d5168e1d7317dd02_jpg.rf.1279c1ccceab06443a62004f2800d891.jpg  \n",
            " extracting: /content/gdrive/My Drive/colab/pytorch-YOLOv4/data_unzip/train/389b4c47568c78c44df11dbb1377ffea_jpg.rf.1d6174519a8e98c853c57584e8cba891.jpg  \n",
            " extracting: /content/gdrive/My Drive/colab/pytorch-YOLOv4/data_unzip/train/66f3c2c7c10a9263de9c6e056ba5c1b9_jpg.rf.18efa20b29dfe94acf3cb63ccc92a4b3.jpg  \n",
            " extracting: /content/gdrive/My Drive/colab/pytorch-YOLOv4/data_unzip/train/5cecd3b3946aac5c713a51e0bd4617c9_jpg.rf.03286d3792ba33d52a3654e14735c974.jpg  \n",
            " extracting: /content/gdrive/My Drive/colab/pytorch-YOLOv4/data_unzip/train/104ec0199cb67e1a359b1b0845ee66f3_jpg.rf.2148e2af0737be8e162d7d867805a8ac.jpg  \n",
            " extracting: /content/gdrive/My Drive/colab/pytorch-YOLOv4/data_unzip/train/fa4e2b9a8cf58f405f69a56c662834f2_jpg.rf.2ac2e858d136ce51bcecdc1129187214.jpg  \n",
            " extracting: /content/gdrive/My Drive/colab/pytorch-YOLOv4/data_unzip/train/e6e3a2ff2c75970490079f00136885ad_jpg.rf.2733f54e2f320fbc9c5e0058c731d765.jpg  \n",
            " extracting: /content/gdrive/My Drive/colab/pytorch-YOLOv4/data_unzip/train/4d6b667ecbd41ebd603b38848366d9d0_jpg.rf.29238774d80d0be8def25571c503714f.jpg  \n",
            " extracting: /content/gdrive/My Drive/colab/pytorch-YOLOv4/data_unzip/train/ddad9dc4d945006d66f5349d64498559_jpg.rf.3d6e55223a3ce985572a9e46d7c6a9f8.jpg  \n",
            " extracting: /content/gdrive/My Drive/colab/pytorch-YOLOv4/data_unzip/train/26d663ab5ffbec49f9dc8e592982cfd4_jpg.rf.238eb82b4d50cc47759fa7ce82c43b97.jpg  \n",
            " extracting: /content/gdrive/My Drive/colab/pytorch-YOLOv4/data_unzip/train/ea799d77875c399618c45cd9409f34ee_jpg.rf.316738a20243cf9a9a408b56ccaa5616.jpg  \n",
            " extracting: /content/gdrive/My Drive/colab/pytorch-YOLOv4/data_unzip/train/d29148a2233950a7777285281cbfccff_jpg.rf.2e63366f947507e0735a25d532caaa54.jpg  \n",
            " extracting: /content/gdrive/My Drive/colab/pytorch-YOLOv4/data_unzip/train/9a6b61a6d3b3e3ecddc201b097aa02d1_jpg.rf.3903667901a40aedda2c42c43502d96b.jpg  \n",
            " extracting: /content/gdrive/My Drive/colab/pytorch-YOLOv4/data_unzip/train/37fe05bcf7d8568a9e55b569afdbccbd_jpg.rf.369f4b4dbd105056aa23957cd4be1687.jpg  \n",
            " extracting: /content/gdrive/My Drive/colab/pytorch-YOLOv4/data_unzip/train/f9a9a175f26d4b26bca3a5338cc1405e_jpg.rf.378f0d92128b1608bc48d47324f380b4.jpg  \n",
            " extracting: /content/gdrive/My Drive/colab/pytorch-YOLOv4/data_unzip/train/c7890b749d14d3488066cbdfac4620fd_jpg.rf.3850673b2781e44e1a293fe12a9cde12.jpg  \n",
            " extracting: /content/gdrive/My Drive/colab/pytorch-YOLOv4/data_unzip/train/04aed88a8d23cf27e47806eb23948495_jpg.rf.4021af803b1b21022221cd3654117580.jpg  \n",
            " extracting: /content/gdrive/My Drive/colab/pytorch-YOLOv4/data_unzip/train/a8847f8fe8eaaa1c97bf83027a901760_jpg.rf.26afc5ee5c983fe73c8e113e99127fa9.jpg  \n",
            " extracting: /content/gdrive/My Drive/colab/pytorch-YOLOv4/data_unzip/train/055b79dd8db4c43e1a23be6095aaf624_jpg.rf.3eddea89d44864ecd7971d2827ee88df.jpg  \n",
            " extracting: /content/gdrive/My Drive/colab/pytorch-YOLOv4/data_unzip/train/5758322233deed7ae7adc23536db2a4f_jpg.rf.2ac5b8df5fb0e541557f79cbdd79f51a.jpg  \n",
            " extracting: /content/gdrive/My Drive/colab/pytorch-YOLOv4/data_unzip/train/6179b463c8f503445e213b706d2a4de5_jpg.rf.22c6e0d7cc69bbceddc0ed8a8b0e0bc5.jpg  \n",
            " extracting: /content/gdrive/My Drive/colab/pytorch-YOLOv4/data_unzip/train/0d9dbf62d5ee42b92bf55197bba4254d_jpg.rf.3dfbde3b99d83e88daa3b69514daa68d.jpg  \n",
            " extracting: /content/gdrive/My Drive/colab/pytorch-YOLOv4/data_unzip/train/bb54af2f0b83b174aecc29328c8fa001_jpg.rf.3224d475bfa4e44af5b808c58d411c4d.jpg  \n",
            " extracting: /content/gdrive/My Drive/colab/pytorch-YOLOv4/data_unzip/train/0301b7f9ed4d5ba503fda79fc4370c29_jpg.rf.3ecfd27607406c9f46c1525efd39e17b.jpg  \n",
            " extracting: /content/gdrive/My Drive/colab/pytorch-YOLOv4/data_unzip/train/8678864272a0a04c4c65ca96324105b4_jpg.rf.23c0e1b2c040efd89095760e27f28eaa.jpg  \n",
            " extracting: /content/gdrive/My Drive/colab/pytorch-YOLOv4/data_unzip/train/fa3cf2724c1648a8822b59ac0759475f_jpg.rf.3ad41d095557e6bfb446af5de5553e75.jpg  \n",
            " extracting: /content/gdrive/My Drive/colab/pytorch-YOLOv4/data_unzip/train/e8480d7fb9881d8a0e88b7be4d103f6d_jpg.rf.2bc6fa7acb94ff9b2993d2de0c7def9e.jpg  \n",
            " extracting: /content/gdrive/My Drive/colab/pytorch-YOLOv4/data_unzip/train/292b0ddcacad7de06a628980954b6993_jpg.rf.3e5a330ebaead704099fbdbcee34d96f.jpg  \n",
            " extracting: /content/gdrive/My Drive/colab/pytorch-YOLOv4/data_unzip/train/1a530d578f3f0bf3497bfeff3d953025_jpg.rf.2a30081d7234f714736032af1dcb4193.jpg  \n",
            " extracting: /content/gdrive/My Drive/colab/pytorch-YOLOv4/data_unzip/train/675619f2c8078824cfd182cec2eeba95_jpg.rf.2a121620701a980a77942a4d8e8a813c.jpg  \n",
            " extracting: /content/gdrive/My Drive/colab/pytorch-YOLOv4/data_unzip/train/4bf38c062fa7b5796d15ba90d6c3a456_jpg.rf.47d09ca58c3f5cb00e286ed52ab6f29a.jpg  \n",
            " extracting: /content/gdrive/My Drive/colab/pytorch-YOLOv4/data_unzip/train/969daa72bd7804ea1212e191820249b0_jpg.rf.42fdf983653232bcccbca70f94cbfac4.jpg  \n",
            " extracting: /content/gdrive/My Drive/colab/pytorch-YOLOv4/data_unzip/train/4ae38537a74c5ed10d5223f8066659fc_jpg.rf.4fef5c4efc7522714a483c38502f21f2.jpg  \n",
            " extracting: /content/gdrive/My Drive/colab/pytorch-YOLOv4/data_unzip/train/76dbe2ccf986a2a0d399d3d8a47279ad_jpg.rf.582fa23c9cb60c607ce4039d59257eac.jpg  \n",
            " extracting: /content/gdrive/My Drive/colab/pytorch-YOLOv4/data_unzip/train/61567b97353acc18ba9e8aac0f111326_jpg.rf.5764028ed4ece48b7894801e884e111e.jpg  \n",
            " extracting: /content/gdrive/My Drive/colab/pytorch-YOLOv4/data_unzip/train/47e842dd95735a11cf92c0ddf1161193_jpg.rf.563bd525e9210a59e275a565317b890f.jpg  \n",
            " extracting: /content/gdrive/My Drive/colab/pytorch-YOLOv4/data_unzip/train/a4028b2361ce7ead654a86b07ac39d52_jpg.rf.4300592f959cf20135ac198003615490.jpg  \n",
            " extracting: /content/gdrive/My Drive/colab/pytorch-YOLOv4/data_unzip/train/3796db002cba7265bd32b0161ddd9127_jpg.rf.4f039ba64a8a26531c2b2861e04cfe7a.jpg  \n",
            " extracting: /content/gdrive/My Drive/colab/pytorch-YOLOv4/data_unzip/train/81f5c542ffe0f9eae4df59d29acbcced_jpg.rf.561b8c31b527d84832e277765b20dc4d.jpg  \n",
            " extracting: /content/gdrive/My Drive/colab/pytorch-YOLOv4/data_unzip/train/6454bd04e2829d4ff83602f0f2d7154e_jpg.rf.46c9bd543815a1c9758df61f2569524e.jpg  \n",
            " extracting: /content/gdrive/My Drive/colab/pytorch-YOLOv4/data_unzip/train/614aadadb4a7f5b475b027b8e11398ee_jpg.rf.46607639a62cb9241830db1088e145a1.jpg  \n",
            " extracting: /content/gdrive/My Drive/colab/pytorch-YOLOv4/data_unzip/train/c76c79e40bd9839a05237934cfa89ca3_jpg.rf.498d8fcd0acd71952f9d92708b360fac.jpg  \n",
            " extracting: /content/gdrive/My Drive/colab/pytorch-YOLOv4/data_unzip/train/d079f4e77b2445abceca7534356db743_jpg.rf.463c6a4e369b2ffc0baaef7ebb4a68a2.jpg  \n",
            " extracting: /content/gdrive/My Drive/colab/pytorch-YOLOv4/data_unzip/train/c46bf04050a2a9323dfe563e8813602f_jpg.rf.4da1d855a20ec2d0deff03a46d8363c9.jpg  \n",
            " extracting: /content/gdrive/My Drive/colab/pytorch-YOLOv4/data_unzip/train/fb586797e8ad818c7e3e3a6411f73d84_jpg.rf.52352f51cdef2f343756ef296af65d9e.jpg  \n",
            " extracting: /content/gdrive/My Drive/colab/pytorch-YOLOv4/data_unzip/train/ef1d425fd5370fbf8b7adea43b755304_jpg.rf.509cd10372ad2fe7def2c49881348306.jpg  \n",
            " extracting: /content/gdrive/My Drive/colab/pytorch-YOLOv4/data_unzip/train/f3302c754c6fd42130014199ee327d10_jpg.rf.56672ccf94cd354a96888ca0e8a8e4e0.jpg  \n",
            " extracting: /content/gdrive/My Drive/colab/pytorch-YOLOv4/data_unzip/train/eb9e7928e756c3cf9164e7afc08c4653_jpg.rf.48f982d13896a1d8c0c7a566cdde2129.jpg  \n",
            " extracting: /content/gdrive/My Drive/colab/pytorch-YOLOv4/data_unzip/train/b3b002461f1c6b432e22964549767e5f_jpg.rf.46f0298de88abcc93f279274d84d6b6b.jpg  \n",
            " extracting: /content/gdrive/My Drive/colab/pytorch-YOLOv4/data_unzip/train/673bcd0d44f495fbe9dd88d5cacfceb3_jpg.rf.4f36394a6dc154067ad4da04cf503df8.jpg  \n",
            " extracting: /content/gdrive/My Drive/colab/pytorch-YOLOv4/data_unzip/train/97aeb1f9b745a929e9ac0848acb53a1a_jpg.rf.5997f0ef95b45103711d4fdc239c2691.jpg  \n",
            " extracting: /content/gdrive/My Drive/colab/pytorch-YOLOv4/data_unzip/train/23988893ef7381fece6d1ef32ef5428f_jpg.rf.5065b0683d241ad92afc074eed391b53.jpg  \n",
            " extracting: /content/gdrive/My Drive/colab/pytorch-YOLOv4/data_unzip/train/00bc0cacffdebe6b11bdeec56f63ee49_jpg.rf.59f0f02a28f020d480fd5d1d8aa32f6d.jpg  \n",
            " extracting: /content/gdrive/My Drive/colab/pytorch-YOLOv4/data_unzip/train/ce54969567273b9b8a275812ff56e16c_jpg.rf.59df2edfb1d3ece93a0939c27e2ed384.jpg  \n",
            " extracting: /content/gdrive/My Drive/colab/pytorch-YOLOv4/data_unzip/train/285d7c487a4e20ad832a74acb527b77f_jpg.rf.5ce3eb6a89b4c0019fde9d22a5921104.jpg  \n",
            " extracting: /content/gdrive/My Drive/colab/pytorch-YOLOv4/data_unzip/train/a932287da44b9dfacd0d16a5c1d27923_jpg.rf.5d4b7b1e6f3b0033a85c6fa52a0dbeef.jpg  \n",
            " extracting: /content/gdrive/My Drive/colab/pytorch-YOLOv4/data_unzip/train/759a86e63667ca033255c4ab438dd392_jpg.rf.708d1d10d1032312cacd959485e92fa5.jpg  \n",
            " extracting: /content/gdrive/My Drive/colab/pytorch-YOLOv4/data_unzip/train/9d776e74e90c4f8092b060dd7567e2f8_jpg.rf.5d6deb8a1e7a40c616186a7b90f48c2b.jpg  \n",
            " extracting: /content/gdrive/My Drive/colab/pytorch-YOLOv4/data_unzip/train/13106bbc80a01cc413c2ab5052d2ec25_jpg.rf.6fb6095088bd3962b78e22f736409ea5.jpg  \n",
            " extracting: /content/gdrive/My Drive/colab/pytorch-YOLOv4/data_unzip/train/e40003d4bbcdac7196b9502bfe2fb6ed_jpg.rf.67e2013fa9dd32e5a94dc926ddabfd35.jpg  \n",
            " extracting: /content/gdrive/My Drive/colab/pytorch-YOLOv4/data_unzip/train/f5231f940bcf1527ef8bb8e46ac0532b_jpg.rf.5d8200f918b607f7dbc41c8533095e41.jpg  \n",
            " extracting: /content/gdrive/My Drive/colab/pytorch-YOLOv4/data_unzip/train/2fe75c34fd54e960146fb8b0ad8b3fd6_jpg.rf.6091e6d4216ef3f71b33d14c30ec0d54.jpg  \n",
            " extracting: /content/gdrive/My Drive/colab/pytorch-YOLOv4/data_unzip/train/76e118acf05a8ebe06957f8882cc06aa_jpg.rf.6170a8b5a9733bae0c02d0ca375bde10.jpg  \n",
            " extracting: /content/gdrive/My Drive/colab/pytorch-YOLOv4/data_unzip/train/a5c65b40e0be3480c0ecfacaab399a87_jpg.rf.65826955144870ecaf37db65ef6532ae.jpg  \n",
            " extracting: /content/gdrive/My Drive/colab/pytorch-YOLOv4/data_unzip/train/d795f84f39716798482fb2937868ed8a_jpg.rf.714951561ee3a485ad7bb06fe4377bf5.jpg  \n",
            " extracting: /content/gdrive/My Drive/colab/pytorch-YOLOv4/data_unzip/train/4667110b61b16e786673ed6126ccc35d_jpg.rf.775479ebec16606e8b47874da02463fb.jpg  \n",
            " extracting: /content/gdrive/My Drive/colab/pytorch-YOLOv4/data_unzip/train/dda052fc8dbcce6154d6874a663743eb_jpg.rf.5f2765d09b2e90e6a1d5a629a006e6ac.jpg  \n",
            " extracting: /content/gdrive/My Drive/colab/pytorch-YOLOv4/data_unzip/train/d67b5b9e900409b050dd9bd594f90709_jpg.rf.7559a07ac3b4029a5a287b4b7b96ea37.jpg  \n",
            " extracting: /content/gdrive/My Drive/colab/pytorch-YOLOv4/data_unzip/train/f587402be410b424bcbbac06e1dc6162_jpg.rf.7181098acae97a248bfa1d0586a3db69.jpg  \n",
            " extracting: /content/gdrive/My Drive/colab/pytorch-YOLOv4/data_unzip/train/05de676d5078dc0a13796f3f627993ef_jpg.rf.70a6ddff100e5f321d7d6f8d4d977e3d.jpg  \n",
            " extracting: /content/gdrive/My Drive/colab/pytorch-YOLOv4/data_unzip/train/c3e9e81ba1540aae7961a4d8d96600ba_jpg.rf.65c56919cca14d00fbe5d2d44ec569de.jpg  \n",
            " extracting: /content/gdrive/My Drive/colab/pytorch-YOLOv4/data_unzip/train/c0d68e012bb93c14bc333fc1d5e52621_jpg.rf.60fc27683bf9457b110251dbc3bb7c4b.jpg  \n",
            " extracting: /content/gdrive/My Drive/colab/pytorch-YOLOv4/data_unzip/train/446e75de1ffefc2115e79696bcf0e357_jpg.rf.642c290200ecf6bac85bbde223355232.jpg  \n",
            " extracting: /content/gdrive/My Drive/colab/pytorch-YOLOv4/data_unzip/train/99ee6574b2a7afc0bb06269bbcf49a4c_jpg.rf.693e8999d9c962ab16c457b2225359f0.jpg  \n",
            " extracting: /content/gdrive/My Drive/colab/pytorch-YOLOv4/data_unzip/train/743665d7ef6ab0330e8786227f6f4051_jpg.rf.6482e654f2b3d8ecebfdaf396c741b07.jpg  \n",
            " extracting: /content/gdrive/My Drive/colab/pytorch-YOLOv4/data_unzip/train/5825608dccde6544eef91822136079d0_jpg.rf.62780259541cb1ed0b071c0594b71147.jpg  \n",
            " extracting: /content/gdrive/My Drive/colab/pytorch-YOLOv4/data_unzip/train/03d3ff4582c8125d69c19a72f846bec8_jpg.rf.5f77781cbc56eff8679f258ff4f7cc9f.jpg  \n",
            " extracting: /content/gdrive/My Drive/colab/pytorch-YOLOv4/data_unzip/train/8d6f722eadc015a393bd490f9b7a85e6_jpg.rf.651f72c0d06342bd6e79bff0aeea8fd2.jpg  \n",
            " extracting: /content/gdrive/My Drive/colab/pytorch-YOLOv4/data_unzip/train/859e7157c6d544236a67463c08169b6e_jpg.rf.773fea93fd9593e63fedd9d27f8581a7.jpg  \n",
            " extracting: /content/gdrive/My Drive/colab/pytorch-YOLOv4/data_unzip/train/b5bcde459ca36f0d1f3c20e751336672_jpg.rf.667ee729363a8d60c926d9dd3734bf2f.jpg  \n",
            " extracting: /content/gdrive/My Drive/colab/pytorch-YOLOv4/data_unzip/train/196829feb704a34a4e471155f14bdd80_jpg.rf.7b98c9eefcd83f5cf7eea7a95e4ceba3.jpg  \n",
            " extracting: /content/gdrive/My Drive/colab/pytorch-YOLOv4/data_unzip/train/b79ae5b70de58089ead6e32b235e30d3_jpg.rf.87a4a8323a2c39c2f925c7987a01d1b6.jpg  \n",
            " extracting: /content/gdrive/My Drive/colab/pytorch-YOLOv4/data_unzip/train/8d796de64b9eed1ffd5ebe550d4ca807_jpg.rf.7a9a939f45b77b1804da67fbb088c795.jpg  \n",
            " extracting: /content/gdrive/My Drive/colab/pytorch-YOLOv4/data_unzip/train/3474d785b1b21d68163f56aa00a92bc9_jpg.rf.7edb79a8e8ad56b74a670a5c43b5cf2a.jpg  \n",
            " extracting: /content/gdrive/My Drive/colab/pytorch-YOLOv4/data_unzip/train/02f0931b536dfba10affc3231a3d64fb_jpg.rf.7daf233a70122377355a36ca33e82aa4.jpg  \n",
            " extracting: /content/gdrive/My Drive/colab/pytorch-YOLOv4/data_unzip/train/03886821377011fec599e8fa12d86e89_jpg.rf.78d439f975872bc0120d597bd265684b.jpg  \n",
            " extracting: /content/gdrive/My Drive/colab/pytorch-YOLOv4/data_unzip/train/59727dce26aaa6100078810b61404069_jpg.rf.7c04dbe505cf1bd214e4f491e3a395af.jpg  \n",
            " extracting: /content/gdrive/My Drive/colab/pytorch-YOLOv4/data_unzip/train/48e115dcbf1b3a67ca47a75a92da3f33_jpg.rf.9a3c3e55cb4a229779fc06a672af0765.jpg  \n",
            " extracting: /content/gdrive/My Drive/colab/pytorch-YOLOv4/data_unzip/train/8dd12470c30e3b265e8933a6fee7ad28_jpg.rf.84b8584b870b790d4f5d40bdd24c1af4.jpg  \n",
            " extracting: /content/gdrive/My Drive/colab/pytorch-YOLOv4/data_unzip/train/4807629b8df9c7eb4366b7feccd72e6a_jpg.rf.8586b4e2e824f8ee2e108a4a32592c9d.jpg  \n",
            " extracting: /content/gdrive/My Drive/colab/pytorch-YOLOv4/data_unzip/train/4ab3343c9e91e56813f6c36bcac9896a_jpg.rf.959e82a0ff12d5f2276016650905b3d1.jpg  \n",
            " extracting: /content/gdrive/My Drive/colab/pytorch-YOLOv4/data_unzip/train/9e943906fba1ec89edfacb2dd7976504_jpg.rf.9702132e48df03814384024ca7313212.jpg  \n",
            " extracting: /content/gdrive/My Drive/colab/pytorch-YOLOv4/data_unzip/train/5a8433ec79c881f84ef19a07dc73665d_jpg.rf.8c74727285683022959679af3c43f190.jpg  \n",
            " extracting: /content/gdrive/My Drive/colab/pytorch-YOLOv4/data_unzip/train/f2672cdc28767484b556da3ab6f1003e_jpg.rf.7d0badf9505f1655f0561107d11a19f1.jpg  \n",
            " extracting: /content/gdrive/My Drive/colab/pytorch-YOLOv4/data_unzip/train/22e74efb18b2d88fba63d25a61bf5f97_jpg.rf.91ebc978b333aae9ba2289e894ff95c3.jpg  \n",
            " extracting: /content/gdrive/My Drive/colab/pytorch-YOLOv4/data_unzip/train/76d01bada90581f55f1ae64c062cafcf_jpg.rf.82f338c5d9879e03d2a7455a585493e3.jpg  \n",
            " extracting: /content/gdrive/My Drive/colab/pytorch-YOLOv4/data_unzip/train/b7a8c7de4fe1382d69f58ac97e819b5c_jpg.rf.7b795ae14bd822803c9f193def40e3ef.jpg  \n",
            " extracting: /content/gdrive/My Drive/colab/pytorch-YOLOv4/data_unzip/train/7df16cd59fb40e0691948cc805e4801b_jpg.rf.87b8be301feea11509703396e6f8b8e2.jpg  \n",
            " extracting: /content/gdrive/My Drive/colab/pytorch-YOLOv4/data_unzip/train/1877a28e4c5f5c1ea68aca66f4e85d95_jpg.rf.7d7dcb905c94e79222205feb915bafec.jpg  \n",
            " extracting: /content/gdrive/My Drive/colab/pytorch-YOLOv4/data_unzip/train/49c2afbbe5726160b289f7c0c62cdace_jpg.rf.88443bd77810fdde979f0d6c41bd3cc8.jpg  \n",
            " extracting: /content/gdrive/My Drive/colab/pytorch-YOLOv4/data_unzip/train/3161933dffedf8a859d6623a99492c53_jpg.rf.9267abfc68d9bd6af1912b5d0319f36c.jpg  \n",
            " extracting: /content/gdrive/My Drive/colab/pytorch-YOLOv4/data_unzip/train/f041d3171dfe3137390c85fc5437e447_jpg.rf.8814a03f0ba5cf32468d13ff688c5594.jpg  \n",
            " extracting: /content/gdrive/My Drive/colab/pytorch-YOLOv4/data_unzip/train/ca869123d8a0cbcc6e54f4a445e5a78a_jpg.rf.882d99242b6bdb27680eadd4a5904cb2.jpg  \n",
            " extracting: /content/gdrive/My Drive/colab/pytorch-YOLOv4/data_unzip/train/a9987cf6cc5c6545818ec294d4a5bb9b_jpg.rf.95a5bb9f3138fe997ff8faa21a85436f.jpg  \n",
            " extracting: /content/gdrive/My Drive/colab/pytorch-YOLOv4/data_unzip/train/a4ebf4c268d80c4fe329331ea981b3a1_jpg.rf.a15a2e6dfb1ce2864f46f69bb0c54795.jpg  \n",
            " extracting: /content/gdrive/My Drive/colab/pytorch-YOLOv4/data_unzip/train/d494cb268ad7f9f55587de138edc1dc4_jpg.rf.a61a3722fe947a9e22034acaaff19a8b.jpg  \n",
            " extracting: /content/gdrive/My Drive/colab/pytorch-YOLOv4/data_unzip/train/6f0a888f9e5aed9516e336fd04723ce1_jpg.rf.9dbcc89d91a6cada0f389a0e88ecf86b.jpg  \n",
            " extracting: /content/gdrive/My Drive/colab/pytorch-YOLOv4/data_unzip/train/edd285915356686fb53fb52c1ded0e53_jpg.rf.9e9b27a0d423c4ec63e6e1dd825d8ced.jpg  \n",
            " extracting: /content/gdrive/My Drive/colab/pytorch-YOLOv4/data_unzip/train/53de0674524ae6d77bdfff48136dec2a_jpg.rf.aadf3edd69993569f90483c91fae1fca.jpg  \n",
            " extracting: /content/gdrive/My Drive/colab/pytorch-YOLOv4/data_unzip/train/c733616ab773817dd1a356dbbdf2ee33_jpg.rf.a3c3194c8e748b8ab26858a2646ba856.jpg  \n",
            " extracting: /content/gdrive/My Drive/colab/pytorch-YOLOv4/data_unzip/train/bc5decab88861286dcf78a367b4377cb_jpg.rf.99264d2583f17e6ba8a7b2e15c54271a.jpg  \n",
            " extracting: /content/gdrive/My Drive/colab/pytorch-YOLOv4/data_unzip/train/8f84f1945fd993facc3368d13345f333_jpg.rf.b190d526f930a1e6e0c8568294cd2837.jpg  \n",
            " extracting: /content/gdrive/My Drive/colab/pytorch-YOLOv4/data_unzip/train/4939035108d04ee672570a7cc937e270_jpg.rf.a00ea9b7a719681055868d92c1191fe4.jpg  \n",
            " extracting: /content/gdrive/My Drive/colab/pytorch-YOLOv4/data_unzip/train/a20eb4bb3cea2e394cfcf9ed969b628e_jpg.rf.abd0f3c626fca3ba6c4111d4fbf656ab.jpg  \n",
            " extracting: /content/gdrive/My Drive/colab/pytorch-YOLOv4/data_unzip/train/6bb6f7cb96bf37230681d12ff7882f61_jpg.rf.b1255adcc94141477b7d089a0b9ebf42.jpg  \n",
            " extracting: /content/gdrive/My Drive/colab/pytorch-YOLOv4/data_unzip/train/cf2784fa97151d5316b2961b1e62dc45_jpg.rf.af04872f77bc32d96852b458e1b3597d.jpg  \n",
            " extracting: /content/gdrive/My Drive/colab/pytorch-YOLOv4/data_unzip/train/8967433350d3b3043902603430fccaab_jpg.rf.b3b6e9ca2da2674266a7d44c368a3953.jpg  \n",
            " extracting: /content/gdrive/My Drive/colab/pytorch-YOLOv4/data_unzip/train/8de03901c64a80070048ead3fb0d32bd_jpg.rf.a81d5c2674e7d68b2245ef7725a87fac.jpg  \n",
            " extracting: /content/gdrive/My Drive/colab/pytorch-YOLOv4/data_unzip/train/9962a4d44388b9008aa0f466e4f4052c_jpg.rf.b2b9e1236e560e47019df29344b0cc10.jpg  \n",
            " extracting: /content/gdrive/My Drive/colab/pytorch-YOLOv4/data_unzip/train/1728cd731489df8bb8e0396e178fe393_jpg.rf.9aa607b72daa7a732ab1285f5ff96c66.jpg  \n",
            " extracting: /content/gdrive/My Drive/colab/pytorch-YOLOv4/data_unzip/train/f3e64e9dd12b65b941c142d142b33ef5_jpg.rf.a9db857ababa4d01d03eb09a527d29fc.jpg  \n",
            " extracting: /content/gdrive/My Drive/colab/pytorch-YOLOv4/data_unzip/train/2ee0fd0963465ba29d8f27c6e605c55d_jpg.rf.b0d9e857c9a56fc8077ea156fca40284.jpg  \n",
            " extracting: /content/gdrive/My Drive/colab/pytorch-YOLOv4/data_unzip/train/ec5ab1930d6aa16fff2582b48f82cada_jpg.rf.ab0666b98c1ed6aed1a7a268fdb79ec6.jpg  \n",
            " extracting: /content/gdrive/My Drive/colab/pytorch-YOLOv4/data_unzip/train/3bab0eaaeb63a2ac9ae4942df4006a25_jpg.rf.a637df4b9da83609e96c1828e1f4366b.jpg  \n",
            " extracting: /content/gdrive/My Drive/colab/pytorch-YOLOv4/data_unzip/train/8bb72e70f0560095885586deba37a524_jpg.rf.addedc80f989194e077b8c53871457b8.jpg  \n",
            " extracting: /content/gdrive/My Drive/colab/pytorch-YOLOv4/data_unzip/train/92992ff9c823e0420bf17e71db9ef4ef_jpg.rf.a9c86b7daee5c7b1977507f760cdd7e8.jpg  \n",
            " extracting: /content/gdrive/My Drive/colab/pytorch-YOLOv4/data_unzip/train/383c2ed7bbe2d327ab55a871db497c33_jpg.rf.ac062d648b1833d4c5ada1dbc6052060.jpg  \n",
            " extracting: /content/gdrive/My Drive/colab/pytorch-YOLOv4/data_unzip/train/9146a6989dac08f1769e677064ebfb49_jpg.rf.adc60b60fd2041dbb3102a4561edf7b6.jpg  \n",
            " extracting: /content/gdrive/My Drive/colab/pytorch-YOLOv4/data_unzip/train/f02d615907c77dc15f02bd1372e4398f_jpg.rf.b46e520760107eb69d290ac810d8e1aa.jpg  \n",
            " extracting: /content/gdrive/My Drive/colab/pytorch-YOLOv4/data_unzip/train/f1ea0167087976926d4fe0aa36b961ce_jpg.rf.ab4d245320384c2d04ba6e9ba6a652ec.jpg  \n",
            " extracting: /content/gdrive/My Drive/colab/pytorch-YOLOv4/data_unzip/train/479459fe5c8213a84fd55ba82f2670b1_jpg.rf.c0cbd0b155916350af1e743b11766dfc.jpg  \n",
            " extracting: /content/gdrive/My Drive/colab/pytorch-YOLOv4/data_unzip/train/0798bfb058da59d189c1bfadcf814f29_jpg.rf.b73199953251d84e4895a862463b7964.jpg  \n",
            " extracting: /content/gdrive/My Drive/colab/pytorch-YOLOv4/data_unzip/train/8ff64b3f770bfe96bdffc629efd16460_jpg.rf.b56392e0638bcb50479d4e74dad8ac8a.jpg  \n",
            " extracting: /content/gdrive/My Drive/colab/pytorch-YOLOv4/data_unzip/train/6403b91d63799cb9b5531c47b195d088_jpg.rf.cb883855985dd9bb6c6abc4cbe53fa76.jpg  \n",
            " extracting: /content/gdrive/My Drive/colab/pytorch-YOLOv4/data_unzip/train/9fc54a45feb5b01db8f6828d181fb075_jpg.rf.c78f29bbe2df51ae862c73f5cca0eebd.jpg  \n",
            " extracting: /content/gdrive/My Drive/colab/pytorch-YOLOv4/data_unzip/train/4894f034a55eaa9252cd261a62b11d27_jpg.rf.bb716c1e40a670ecd703683c8dc332c0.jpg  \n",
            " extracting: /content/gdrive/My Drive/colab/pytorch-YOLOv4/data_unzip/train/80c787b97ed3e2b4befd6b11aa2fba37_jpg.rf.b7e9d028eb34400c5d239b57639e086e.jpg  \n",
            " extracting: /content/gdrive/My Drive/colab/pytorch-YOLOv4/data_unzip/train/fc9d7bc0453cb3324406401c00224d30_jpg.rf.c596d992843d8a35d80cadf5489e0770.jpg  \n",
            " extracting: /content/gdrive/My Drive/colab/pytorch-YOLOv4/data_unzip/train/3730ef213ac6aad431475a9ab28f349a_jpg.rf.c18235c762e398156f5a67144b46d3a9.jpg  \n",
            " extracting: /content/gdrive/My Drive/colab/pytorch-YOLOv4/data_unzip/train/ec4c30d88ecc70b6a3e76dbd9b17324a_jpg.rf.da4ab525f8d9b96b4de4067bd6694cbb.jpg  \n",
            " extracting: /content/gdrive/My Drive/colab/pytorch-YOLOv4/data_unzip/train/4eb630d4dd38528dacf72355caf5c06d_jpg.rf.cef25bd3e5eb142ccd065e5d26049127.jpg  \n",
            " extracting: /content/gdrive/My Drive/colab/pytorch-YOLOv4/data_unzip/train/0cf670506bf9e0fe587647cd62caa232_jpg.rf.cc43d799dab21abc85a4368295867d8f.jpg  \n",
            " extracting: /content/gdrive/My Drive/colab/pytorch-YOLOv4/data_unzip/train/2c32afd520cc8bf076dfa5b6e2e1c4c1_jpg.rf.c546a535eb5f3a68ed59a794c1faeb2a.jpg  \n",
            " extracting: /content/gdrive/My Drive/colab/pytorch-YOLOv4/data_unzip/train/48d3c59a99b2b5a5b9f1eb7d5ba63b60_jpg.rf.c196233c6c25ec23958aa743163344b1.jpg  \n",
            " extracting: /content/gdrive/My Drive/colab/pytorch-YOLOv4/data_unzip/train/3e8fb24addda1a0945bd6b7777bc4018_jpg.rf.d17abcc1ddc47bcc382536d9669e3fd5.jpg  \n",
            " extracting: /content/gdrive/My Drive/colab/pytorch-YOLOv4/data_unzip/train/d9acc69c5d57623cda22786e309201c9_jpg.rf.dc4a82120ade321eeae8146c917e3109.jpg  \n",
            " extracting: /content/gdrive/My Drive/colab/pytorch-YOLOv4/data_unzip/train/79e744a68d6e6f83be0a9e8761ea66a4_jpg.rf.d796c3ba698ebf673f0d3fc42062e20c.jpg  \n",
            " extracting: /content/gdrive/My Drive/colab/pytorch-YOLOv4/data_unzip/train/5e71cb8d41c333a18e799ef0004b040c_jpg.rf.d65a0847e82174366d01e29a636074e6.jpg  \n",
            " extracting: /content/gdrive/My Drive/colab/pytorch-YOLOv4/data_unzip/train/38f26ee82e38d332b2a831aa47bd363b_jpg.rf.ce772b291dcc390ce7786ed11a493495.jpg  \n",
            " extracting: /content/gdrive/My Drive/colab/pytorch-YOLOv4/data_unzip/train/3091c9b25d76e9cbd0af83ced9f354e5_jpg.rf.d5f14cd80477f444b7ed601f609c67dd.jpg  \n",
            " extracting: /content/gdrive/My Drive/colab/pytorch-YOLOv4/data_unzip/train/1b4ccdf7d5ff45dc6c3885243bde5af2_jpg.rf.c0b83419aa9e3c1b3b5a9cba2b9ea579.jpg  \n",
            " extracting: /content/gdrive/My Drive/colab/pytorch-YOLOv4/data_unzip/train/0b4ba28f0c759a11750a6430649b52e3_jpg.rf.c732477a7f65117e3fb24bbd7bca5b8e.jpg  \n",
            " extracting: /content/gdrive/My Drive/colab/pytorch-YOLOv4/data_unzip/train/300f80826bbb7dc4bf83e148614f2f77_jpg.rf.d2ebe06b4f53115a03fefa84f8ce7f4e.jpg  \n",
            " extracting: /content/gdrive/My Drive/colab/pytorch-YOLOv4/data_unzip/train/b5102d7f9740eee7754ed268becb2163_jpg.rf.d4a8cfe5fa4d0f53d73c64b07ebabbce.jpg  \n",
            " extracting: /content/gdrive/My Drive/colab/pytorch-YOLOv4/data_unzip/train/247f9cf35a263dc7dd7886b187fd5480_jpg.rf.ca7241ecf892e490f69312d56b5a6773.jpg  \n",
            " extracting: /content/gdrive/My Drive/colab/pytorch-YOLOv4/data_unzip/train/34ad1966ae7a17d4502ca141413ed8d2_jpg.rf.dd63137d1c9d6095c293b48a0b6f3334.jpg  \n",
            " extracting: /content/gdrive/My Drive/colab/pytorch-YOLOv4/data_unzip/train/57def88c6de500f5f6926354b3680a13_jpg.rf.dd74421d7ddaa3ec1198e12a84a9f1dc.jpg  \n",
            " extracting: /content/gdrive/My Drive/colab/pytorch-YOLOv4/data_unzip/train/1a8a4abcba7c4ead35c01f05b9fae8e5_jpg.rf.e36b61dd77198f5d2ffd5c39645638cb.jpg  \n",
            " extracting: /content/gdrive/My Drive/colab/pytorch-YOLOv4/data_unzip/train/de60ba81aa78387928e4bdc11f3be301_jpg.rf.e7b8966eca79a6758f9f2eedfcf1177c.jpg  \n",
            " extracting: /content/gdrive/My Drive/colab/pytorch-YOLOv4/data_unzip/train/d3a4e1b8f13ef89f419251f5c5839d0d_jpg.rf.e4b5ce214ea2670fa96ab949aec57dcc.jpg  \n",
            " extracting: /content/gdrive/My Drive/colab/pytorch-YOLOv4/data_unzip/train/998222d9c93f1640829d4f0032dbf3e8_jpg.rf.dfdbeef166796c8f4327b3a456ca1cfe.jpg  \n",
            " extracting: /content/gdrive/My Drive/colab/pytorch-YOLOv4/data_unzip/train/6f0de9b594de9f9b92c6a20daa51a28a_jpg.rf.e7362c0e232dfa07aa0eb3f52bb4fd50.jpg  \n",
            " extracting: /content/gdrive/My Drive/colab/pytorch-YOLOv4/data_unzip/train/9504fb6b81031feac1fbf1e128b5c173_jpg.rf.e4e7ce142edc55c73267abbe60ec69b3.jpg  \n",
            " extracting: /content/gdrive/My Drive/colab/pytorch-YOLOv4/data_unzip/train/49f78dc9aaeadd0c76ed2def75c358f3_jpg.rf.ebe11640761df4735fa11bf2516c7967.jpg  \n",
            " extracting: /content/gdrive/My Drive/colab/pytorch-YOLOv4/data_unzip/train/a9768de3fceeeae2618f362870fb9a88_jpg.rf.f08a04590fba92deafdb3def03e97c44.jpg  \n",
            " extracting: /content/gdrive/My Drive/colab/pytorch-YOLOv4/data_unzip/train/6589f4cfb37439d7d276f0d70f7ee1f0_jpg.rf.e6bfa3034bc8005aaadf8ba1aca18e61.jpg  \n",
            " extracting: /content/gdrive/My Drive/colab/pytorch-YOLOv4/data_unzip/train/06770ce99d4866165c0dfb104179c361_jpg.rf.e7acda724f1beddf07e9cc9ee750f3d5.jpg  \n",
            " extracting: /content/gdrive/My Drive/colab/pytorch-YOLOv4/data_unzip/train/e4209b257f3706992c059c836cc42ec7_jpg.rf.ed76056e3061801af1c2cdf46bea57fc.jpg  \n",
            " extracting: /content/gdrive/My Drive/colab/pytorch-YOLOv4/data_unzip/train/871597c145446cf58c1c2dd7db988864_jpg.rf.dfe014e3493447cc19e30bb97c00239a.jpg  \n",
            " extracting: /content/gdrive/My Drive/colab/pytorch-YOLOv4/data_unzip/train/6ba74e310dd824af891d057d674cedb9_jpg.rf.f100b00ae7151f33ca508ed17be6e7c6.jpg  \n",
            " extracting: /content/gdrive/My Drive/colab/pytorch-YOLOv4/data_unzip/train/d415969922564f317be0d1433330626f_jpg.rf.ec44988c2ee838f90f37cc64ea149905.jpg  \n",
            " extracting: /content/gdrive/My Drive/colab/pytorch-YOLOv4/data_unzip/train/31419854b103ca6becc4cc394c449e95_jpg.rf.ed358e1365d7de3a15257d87752c51b9.jpg  \n",
            " extracting: /content/gdrive/My Drive/colab/pytorch-YOLOv4/data_unzip/train/beb11566e59775b61f0ca369952067cc_jpg.rf.f2f174dcc0acd5991b822c5ca1a6735a.jpg  \n",
            " extracting: /content/gdrive/My Drive/colab/pytorch-YOLOv4/data_unzip/train/239c409d5c09b493fed01a70a3cda4bc_jpg.rf.f8f5bf822dba445148cf5271f1a7e34d.jpg  \n",
            " extracting: /content/gdrive/My Drive/colab/pytorch-YOLOv4/data_unzip/train/54a90aab8c73562975cc560d51a9d2d1_jpg.rf.f5700e30dc924ed32d1b7e34cff05c04.jpg  \n",
            " extracting: /content/gdrive/My Drive/colab/pytorch-YOLOv4/data_unzip/train/f52e1873b8583f8bf4f7ddf6e9649f07_jpg.rf.e9f936cd405597e058a5d399d094078d.jpg  \n",
            " extracting: /content/gdrive/My Drive/colab/pytorch-YOLOv4/data_unzip/train/7ee8d13861bdc45e40a7cfe190a8d8a6_jpg.rf.f89633224312e1c80ce73c4e05c65051.jpg  \n",
            " extracting: /content/gdrive/My Drive/colab/pytorch-YOLOv4/data_unzip/train/c3e3b51f63d344be346e6e425f30f87a_jpg.rf.f88e789167d309e0381aa2c9d4a6e322.jpg  \n",
            " extracting: /content/gdrive/My Drive/colab/pytorch-YOLOv4/data_unzip/train/3057eba7e9b0221ddbdc96a01f39ab79_jpg.rf.f5ca64930fd980c194483c8a3bb6a54e.jpg  \n",
            " extracting: /content/gdrive/My Drive/colab/pytorch-YOLOv4/data_unzip/train/9c5fb0c3cfd7b334a247cd87c139e8e6_jpg.rf.e515316111e554f86ea49e12faeda7a4.jpg  \n",
            " extracting: /content/gdrive/My Drive/colab/pytorch-YOLOv4/data_unzip/train/65ba27557c78850168b1df70a3ce4ff7_jpg.rf.ef005cf77310609923ff2fb962581194.jpg  \n",
            " extracting: /content/gdrive/My Drive/colab/pytorch-YOLOv4/data_unzip/train/0115e4df73475b550e5c6f7a88b2474f_jpg.rf.dfa577bd4af5440d689046c2f48bc48e.jpg  \n",
            " extracting: /content/gdrive/My Drive/colab/pytorch-YOLOv4/data_unzip/train/040f2bcba5afce3afafdd5bbf36d2ca5_jpg.rf.fe6d0720247b60f2c6e1cda98fd00cab.jpg  \n",
            " extracting: /content/gdrive/My Drive/colab/pytorch-YOLOv4/data_unzip/valid/8ec14357f5f18fb98db86e0283623150_jpg.rf.336c6e5901f05467bb6b35b785a73949.jpg  \n",
            " extracting: /content/gdrive/My Drive/colab/pytorch-YOLOv4/data_unzip/valid/fb7d97265a22bb1c1f908dadc6f9e7dc_jpg.rf.2bb7d12a905737aefab726bddf073b15.jpg  \n",
            " extracting: /content/gdrive/My Drive/colab/pytorch-YOLOv4/data_unzip/valid/6a41b6c8201604216ad196f842c6a2c6_jpg.rf.0d52407ef16693d64cff0668cf321247.jpg  \n",
            " extracting: /content/gdrive/My Drive/colab/pytorch-YOLOv4/data_unzip/valid/55be99616328f83dcbfe8c18e1387c0e_jpg.rf.36754078c78920a961830dfaaf13e0a6.jpg  \n",
            " extracting: /content/gdrive/My Drive/colab/pytorch-YOLOv4/data_unzip/valid/1be2a621f309c7482e9a79ad5b23ecbe_jpg.rf.5110719a49957c38e3e509c0f644ee8a.jpg  \n",
            " extracting: /content/gdrive/My Drive/colab/pytorch-YOLOv4/data_unzip/valid/c1f800417bc42263d141b5ed785e7707_jpg.rf.392e40659901da081aa711c6e9a59af8.jpg  \n",
            " extracting: /content/gdrive/My Drive/colab/pytorch-YOLOv4/data_unzip/valid/6e2dd4604b3a51d9be11b8809ed03803_jpg.rf.667ebfe34e7fa7194e71635b3364dcbb.jpg  \n",
            " extracting: /content/gdrive/My Drive/colab/pytorch-YOLOv4/data_unzip/valid/18742c87a03866e042c5659ba04d1180_jpg.rf.4424e6a8a441a8389fa7d8691955c4c4.jpg  \n",
            " extracting: /content/gdrive/My Drive/colab/pytorch-YOLOv4/data_unzip/valid/3aafc2d38807dddd1b43a54cb70f500d_jpg.rf.561ea7a7774fc0087608ace4aa379998.jpg  \n",
            " extracting: /content/gdrive/My Drive/colab/pytorch-YOLOv4/data_unzip/valid/c20ca9283ea51ac7707905894a7da703_jpg.rf.365ea9253c49e1145082f3893571bc9a.jpg  \n",
            " extracting: /content/gdrive/My Drive/colab/pytorch-YOLOv4/data_unzip/valid/abd65798d9952a27e087710eb8bddf32_jpg.rf.4a213f8a0a18bbd6a6445a5c78b72846.jpg  \n",
            " extracting: /content/gdrive/My Drive/colab/pytorch-YOLOv4/data_unzip/valid/05ad7223827a29a8283f6c4b2490f52f_jpg.rf.5039e263463db5153a0dd8439b462588.jpg  \n",
            " extracting: /content/gdrive/My Drive/colab/pytorch-YOLOv4/data_unzip/valid/0c09b79cff39932c59ecc745dd827906_jpg.rf.24b462cfe4b4e7dba97d478de07b9115.jpg  \n",
            " extracting: /content/gdrive/My Drive/colab/pytorch-YOLOv4/data_unzip/valid/793c79d55c8a252b7a954d074b1d6498_jpg.rf.3af5b0c88f75574c8733ad6a9a511285.jpg  \n",
            " extracting: /content/gdrive/My Drive/colab/pytorch-YOLOv4/data_unzip/valid/c5172afbdad90854b3d0f21a923c0c69_jpg.rf.6645c6f01feff2a87722629cb9ab963a.jpg  \n",
            " extracting: /content/gdrive/My Drive/colab/pytorch-YOLOv4/data_unzip/train/d33c33de41dbe1a95a43212c58fd12b7_jpg.rf.fca260fa864f5898d61bee78b5f152e1.jpg  \n",
            " extracting: /content/gdrive/My Drive/colab/pytorch-YOLOv4/data_unzip/valid/578029c06939a788cd5606ad17b49fb9_jpg.rf.22a4229d97b9d564fcb42140b375c401.jpg  \n",
            " extracting: /content/gdrive/My Drive/colab/pytorch-YOLOv4/data_unzip/valid/0af4c8f0fb5d899e9d1c8d34b2efa980_jpg.rf.57b0654146d453d6cae13cdddc229aa2.jpg  \n",
            " extracting: /content/gdrive/My Drive/colab/pytorch-YOLOv4/data_unzip/valid/e53bf8a0e692a4ccd5f1dc2bc19e7751_jpg.rf.469657a97d400016f17a01731956ed43.jpg  \n",
            " extracting: /content/gdrive/My Drive/colab/pytorch-YOLOv4/data_unzip/valid/3e0c67f38992fe16dfc163f7f5336263_jpg.rf.4d79300bd37d2259d21ba88499057193.jpg  \n",
            " extracting: /content/gdrive/My Drive/colab/pytorch-YOLOv4/data_unzip/valid/31b83afa654d5dd874c3f0111126ab7f_jpg.rf.578d68b987125c78d5974e1ba6384358.jpg  \n",
            " extracting: /content/gdrive/My Drive/colab/pytorch-YOLOv4/data_unzip/train/93557fc861304f7753089c244bc1e33e_jpg.rf.ffbb0460f28c29ea6c2f0e5ff165550c.jpg  \n",
            " extracting: /content/gdrive/My Drive/colab/pytorch-YOLOv4/data_unzip/valid/9453c2097cb4ccc676e273939894b3da_jpg.rf.66f387eef4e1095bd8ceb9bf80829208.jpg  \n",
            " extracting: /content/gdrive/My Drive/colab/pytorch-YOLOv4/data_unzip/valid/ff33a2df1da63c736d4cf28473d3c220_jpg.rf.4e74afa93891c4a01b95784eb9a9268d.jpg  \n",
            " extracting: /content/gdrive/My Drive/colab/pytorch-YOLOv4/data_unzip/valid/d6e283a49b0395a6d5867c9e98e32045_jpg.rf.98019c4213f1dfdb5e6ad1650216f5b6.jpg  \n",
            " extracting: /content/gdrive/My Drive/colab/pytorch-YOLOv4/data_unzip/valid/64061fd2e0e35bdf9ac4681eddf5fa2a_jpg.rf.6857b7f054d184aa9404720b55f05a2b.jpg  \n",
            " extracting: /content/gdrive/My Drive/colab/pytorch-YOLOv4/data_unzip/valid/d9e1d53f5e3a4433421dcd591f76f869_jpg.rf.83b108a81003f948521c89774adc87f3.jpg  \n",
            " extracting: /content/gdrive/My Drive/colab/pytorch-YOLOv4/data_unzip/valid/eca42980852e6c5db10ee84aac23f9c6_jpg.rf.746317745a1bb86f4da60bfd8eb2db36.jpg  \n",
            " extracting: /content/gdrive/My Drive/colab/pytorch-YOLOv4/data_unzip/valid/7e862b85e33cd247ed66447d129e5fb4_jpg.rf.abee398f18046b4d243ac69d762138a2.jpg  \n",
            " extracting: /content/gdrive/My Drive/colab/pytorch-YOLOv4/data_unzip/valid/d3b9309d00a2b671407b918ea867a935_jpg.rf.9d8fcbced3aa4c09446abb6ed0c29233.jpg  \n",
            " extracting: /content/gdrive/My Drive/colab/pytorch-YOLOv4/data_unzip/valid/33b66ede234715fb46db40b33c4e26c1_jpg.rf.6d0e742174ceaac44bb8796a960f9236.jpg  \n",
            " extracting: /content/gdrive/My Drive/colab/pytorch-YOLOv4/data_unzip/valid/15cc23c777b00d0e123f9df468f2852b_jpg.rf.69a7ec25c26ca626a9c3d3455989715a.jpg  \n",
            " extracting: /content/gdrive/My Drive/colab/pytorch-YOLOv4/data_unzip/valid/0d9afc3d23392c3958f53d7fe71fd2f1_jpg.rf.907162426130ed7370ad72200fdd3bc0.jpg  \n",
            " extracting: /content/gdrive/My Drive/colab/pytorch-YOLOv4/data_unzip/valid/e7edc4f1b8d3cc1069b96d0358e066c9_jpg.rf.a3de5df2eba3d7ce93e6f4bc5f9d8f3f.jpg  \n",
            " extracting: /content/gdrive/My Drive/colab/pytorch-YOLOv4/data_unzip/valid/7e97f49e613a59a70b833e4c0b2c1c04_jpg.rf.84c0d1ef94637613ccabfb825d647a41.jpg  \n",
            " extracting: /content/gdrive/My Drive/colab/pytorch-YOLOv4/data_unzip/valid/4b8f93069270a9f7bb523518a5088b9e_jpg.rf.7d625433b528e65c579f62eee62b0847.jpg  \n",
            " extracting: /content/gdrive/My Drive/colab/pytorch-YOLOv4/data_unzip/valid/97ed198b00b5491747d3b425df8e7096_jpg.rf.aeabc0f0f9a1bb963c3001f4903ac38a.jpg  \n",
            " extracting: /content/gdrive/My Drive/colab/pytorch-YOLOv4/data_unzip/valid/aec1aa6773dbbe004554f405cdef2bea_jpg.rf.7c2ac24381a7b22374523a201c21467c.jpg  \n",
            " extracting: /content/gdrive/My Drive/colab/pytorch-YOLOv4/data_unzip/valid/5d492613cf4021eb387513e2635cb3aa_jpg.rf.8ea3718b5ca86bbaeadf248887f74fdf.jpg  \n",
            " extracting: /content/gdrive/My Drive/colab/pytorch-YOLOv4/data_unzip/valid/26fa37995fa5b18ec40e0a94e6d91104_jpg.rf.ae716df13c86ffbaf972aed9fa4e08ef.jpg  \n",
            " extracting: /content/gdrive/My Drive/colab/pytorch-YOLOv4/data_unzip/valid/424d6506342fa2471e71586675ed092c_jpg.rf.988e7de42f51f3f688417fa6b924af55.jpg  \n",
            " extracting: /content/gdrive/My Drive/colab/pytorch-YOLOv4/data_unzip/valid/688232b6869708fe78907898f8f8b5f9_jpg.rf.6bb2e677c81378bf20e3e43710e505e9.jpg  \n",
            " extracting: /content/gdrive/My Drive/colab/pytorch-YOLOv4/data_unzip/valid/ca6484c259f286c5bdf1afefc868b753_jpg.rf.af40757deb44de14e90bf3a76b070028.jpg  \n",
            " extracting: /content/gdrive/My Drive/colab/pytorch-YOLOv4/data_unzip/valid/d114edc5cb4cae0ceb2f152afd15f57d_jpg.rf.a47ecb8ab8be13c4449100793c00ba58.jpg  \n",
            " extracting: /content/gdrive/My Drive/colab/pytorch-YOLOv4/data_unzip/valid/495019998442ddf85b59e387d4916cd3_jpg.rf.ba08d9a498ecad855a31f6c64f7ffa96.jpg  \n",
            " extracting: /content/gdrive/My Drive/colab/pytorch-YOLOv4/data_unzip/valid/bb0de9761d16eee258ae09d8de32002c_jpg.rf.c27c48aeaf45d2b9cd8aa28ce82f5209.jpg  \n",
            " extracting: /content/gdrive/My Drive/colab/pytorch-YOLOv4/data_unzip/valid/5c19d3260762f5daa632d952bc0074d6_jpg.rf.ae475688a20af8344bcd8d9b7e37e853.jpg  \n",
            " extracting: /content/gdrive/My Drive/colab/pytorch-YOLOv4/data_unzip/valid/73e6a751c50604d017541c11b28d8417_jpg.rf.be0202c45e3c0e0936cfa30813f88d6f.jpg  \n",
            " extracting: /content/gdrive/My Drive/colab/pytorch-YOLOv4/data_unzip/valid/6859628a422c1b72be8b074841cd943e_jpg.rf.dc8c083b42296b8c70664349805d98f3.jpg  \n",
            " extracting: /content/gdrive/My Drive/colab/pytorch-YOLOv4/data_unzip/valid/3312e3bb60e338e9c1a614f0f8960dd8_jpg.rf.cc13ce4af944d2aeb4afaa7959fd72fd.jpg  \n",
            " extracting: /content/gdrive/My Drive/colab/pytorch-YOLOv4/data_unzip/valid/ec418cafd39d7c5a69cc0642a08b2a08_jpg.rf.f246d01cc6a67541b8a6d383c197e7dc.jpg  \n",
            " extracting: /content/gdrive/My Drive/colab/pytorch-YOLOv4/data_unzip/valid/d9ef98145d7d35393c75a51331a20e2c_jpg.rf.d045b29b13d25132e1f7b23a02161819.jpg  \n",
            " extracting: /content/gdrive/My Drive/colab/pytorch-YOLOv4/data_unzip/valid/86afe95de5471af5cef08e6ae4d9acbb_jpg.rf.c90d58d63f997b978c67626c194fc2bd.jpg  \n",
            " extracting: /content/gdrive/My Drive/colab/pytorch-YOLOv4/data_unzip/valid/1b7c1c9570e900f75eb974f99cbb3c60_jpg.rf.cf50b35db1eb4d6232850d24c5187794.jpg  \n",
            " extracting: /content/gdrive/My Drive/colab/pytorch-YOLOv4/data_unzip/valid/3baf85c957b9d28a16c0b65cb2ef0d29_jpg.rf.825ae30ea5a63347bf69def9d1963bcb.jpg  \n",
            " extracting: /content/gdrive/My Drive/colab/pytorch-YOLOv4/data_unzip/valid/d4f7caf01359b9a757c930140f746fad_jpg.rf.ccdaecd58d74f3bc49babbde826e2e60.jpg  \n",
            " extracting: /content/gdrive/My Drive/colab/pytorch-YOLOv4/data_unzip/valid/e1616dc9962fed075576ac4ea3553f51_jpg.rf.de48bd9b3a1fbb4e967dc60f36fabce6.jpg  \n",
            " extracting: /content/gdrive/My Drive/colab/pytorch-YOLOv4/data_unzip/valid/0b2252c93c53e1b2e61d485b22328e2e_jpg.rf.c61f1858920b2e783ee048a397a59d02.jpg  \n",
            " extracting: /content/gdrive/My Drive/colab/pytorch-YOLOv4/data_unzip/valid/57d1d1fb35ed875f9e770660bb03b6d7_jpg.rf.ee46450ad0ef6a5c64d977a5f1c755f2.jpg  \n",
            " extracting: /content/gdrive/My Drive/colab/pytorch-YOLOv4/data_unzip/valid/302e7c10664be32b4fc000452149027c_jpg.rf.cc08ac2db1a22e4b2d0ce14f66015dce.jpg  \n",
            " extracting: /content/gdrive/My Drive/colab/pytorch-YOLOv4/data_unzip/test/_annotations.txt  \n",
            " extracting: /content/gdrive/My Drive/colab/pytorch-YOLOv4/data_unzip/test/_classes.txt  \n",
            " extracting: /content/gdrive/My Drive/colab/pytorch-YOLOv4/data_unzip/train/_annotations.txt  \n",
            " extracting: /content/gdrive/My Drive/colab/pytorch-YOLOv4/data_unzip/train/_classes.txt  \n",
            " extracting: /content/gdrive/My Drive/colab/pytorch-YOLOv4/data_unzip/valid/_annotations.txt  \n",
            " extracting: /content/gdrive/My Drive/colab/pytorch-YOLOv4/data_unzip/valid/_classes.txt  \n",
            " extracting: /content/gdrive/My Drive/colab/pytorch-YOLOv4/data_unzip/README.roboflow.txt  \n",
            " extracting: /content/gdrive/My Drive/colab/pytorch-YOLOv4/data_unzip/README.dataset.txt  \n"
          ]
        }
      ]
    },
    {
      "cell_type": "code",
      "metadata": {
        "id": "6q8eVlCtMo2F",
        "colab": {
          "base_uri": "https://localhost:8080/"
        },
        "outputId": "7ce18ccf-d657-4bd7-895f-126f07637fed"
      },
      "source": [
        "# Step 04.1.2 Prepare dataset & weights (by unzip file)\n",
        "\n",
        "%cd /content/gdrive/My\\ Drive/colab/pytorch-YOLOv4\n",
        "\n",
        "!rm -rf train\n",
        "%mkdir train\n",
        "%cp /content/gdrive/My\\ Drive/colab/pytorch-YOLOv4/data_unzip/train/_annotations.txt train/train.txt\n",
        "%cp /content/gdrive/My\\ Drive/colab/pytorch-YOLOv4/data_unzip/train/_classes.txt train/_classes.txt\n",
        "%cp /content/gdrive/My\\ Drive/colab/pytorch-YOLOv4/data_unzip/train/_annotations.txt train.txt\n",
        "%cp /content/gdrive/My\\ Drive/colab/pytorch-YOLOv4/data_unzip/train/*.jpg train/\n",
        "%cp /content/gdrive/My\\ Drive/colab/pytorch-YOLOv4/data_unzip/valid/*.jpg train/\n",
        "\n",
        "!rm -rf data\n",
        "%mkdir data\n",
        "%cp /content/gdrive/My\\ Drive/colab/pytorch-YOLOv4/data_unzip/valid/_annotations.txt data/val.txt\n",
        "\n",
        "!rm -rf test\n",
        "%mkdir test\n",
        "%cp /content/gdrive/My\\ Drive/colab/pytorch-YOLOv4/data_unzip/test/_classes.txt test/_classes.txt\n",
        "%cp /content/gdrive/My\\ Drive/colab/pytorch-YOLOv4/data_unzip/test/*.jpg test/"
      ],
      "execution_count": null,
      "outputs": [
        {
          "output_type": "stream",
          "name": "stdout",
          "text": [
            "/content/gdrive/My Drive/colab/pytorch-YOLOv4\n"
          ]
        }
      ]
    },
    {
      "cell_type": "code",
      "metadata": {
        "id": "YUBVHi9tl2TT",
        "colab": {
          "base_uri": "https://localhost:8080/"
        },
        "outputId": "c5474e7a-a9dc-4ee5-f309-cde93428f313"
      },
      "source": [
        "# Step 04.3 Check the number of classes\n",
        "\n",
        "def file_len(fname):\n",
        "  with open(fname) as f:\n",
        "    for i, l in enumerate(f):\n",
        "      pass\n",
        "  return i + 1\n",
        "\n",
        "num_classes = file_len('train/_classes.txt')\n",
        "print(num_classes)"
      ],
      "execution_count": null,
      "outputs": [
        {
          "output_type": "stream",
          "name": "stdout",
          "text": [
            "12\n"
          ]
        }
      ]
    },
    {
      "cell_type": "markdown",
      "metadata": {
        "id": "0hTN2k7ltS6P"
      },
      "source": [
        "# Step 06. Training"
      ]
    },
    {
      "cell_type": "code",
      "metadata": {
        "id": "gixAX-nHr1JX"
      },
      "source": [
        "# prepare pre-trained weights\n",
        "\n",
        "# copy converted pre-trained weights\n",
        "%cp /content/gdrive/My\\ Drive/colab/weights/yolov4.conv.137.pth yolov4.conv.137.pth"
      ],
      "execution_count": null,
      "outputs": []
    },
    {
      "cell_type": "code",
      "metadata": {
        "id": "OeSEi6HxMwWT",
        "colab": {
          "base_uri": "https://localhost:8080/"
        },
        "outputId": "e35fbb29-1397-4148-9888-b799bc80fb16"
      },
      "source": [
        "#start training\n",
        "#-b batch size (you should keep this low (2-4) for training to work properly)\n",
        "#-s number of subdivisions in the batch, this was more relevant for the darknet framework\n",
        "#-l learning rate\n",
        "#-g direct training to the GPU device\n",
        "#pretrained invoke the pretrained weights that we downloaded above\n",
        "#classes - number of classes\n",
        "#dir - where the training data is\n",
        "#epoch - how long to train for\n",
        "\n",
        "%cd /content/gdrive/My\\ Drive/colab/pytorch-YOLOv4\n",
        "!python train.py -b 4 -s 1 -l 0.001 -g 0 -pretrained ./yolov4.conv.137.pth -classes {num_classes} -dir ./train -epochs 25"
      ],
      "execution_count": null,
      "outputs": [
        {
          "output_type": "stream",
          "name": "stdout",
          "text": [
            "/content/gdrive/My Drive/colab/pytorch-YOLOv4\n",
            "log file path:log/log_2022-12-07_02-02-40.txt\n",
            "2022-12-07 02:02:40,309 train.py[line:435] INFO: Using device cuda\n",
            "2022-12-07 02:02:43,714 train.py[line:268] INFO: Starting training:\n",
            "        Epochs:          25\n",
            "        Batch size:      4\n",
            "        Subdivisions:    1\n",
            "        Learning rate:   0.001\n",
            "        Training size:   202\n",
            "        Validation size: 58\n",
            "        Checkpoints:     True\n",
            "        Device:          cuda\n",
            "        Images size:     608\n",
            "        Optimizer:       adam\n",
            "        Dataset classes: 12\n",
            "        Train label path:train.txt\n",
            "        Pretrained:\n",
            "    \n",
            "Epoch 1/25:   0%|        | 0/202 [00:00<?, ?img/s]/usr/local/lib/python3.8/dist-packages/torch/nn/_reduction.py:43: UserWarning: size_average and reduce args will be deprecated, please use reduction='sum' instead.\n",
            "  warnings.warn(warning.format(ret))\n",
            "Epoch 1/25:  38%|▍| 76/202 [00:20<00:24,  5.11img//usr/local/lib/python3.8/dist-packages/torch/optim/lr_scheduler.py:224: UserWarning: To get the last learning rate computed by the scheduler, please use `get_last_lr()`.\n",
            "  warnings.warn(\"To get the last learning rate computed by the scheduler, \"\n",
            "2022-12-07 02:03:04,585 train.py[line:348] INFO: Train step_20: loss : 71495.125,loss xy : 67.58914947509766,loss wh : 8.83582592010498,loss obj : 71205.890625，loss cls : 212.8126220703125,loss l2 : 26442.88671875,lr : 1.6000000000000002e-10\n",
            "Epoch 1/25:  77%|▊| 156/202 [00:34<00:08,  5.53img2022-12-07 02:03:19,476 train.py[line:348] INFO: Train step_40: loss : 72346.7890625,loss xy : 272.84332275390625,loss wh : 38.462379455566406,loss obj : 71197.234375，loss cls : 838.2495727539062,loss l2 : 26768.87109375,lr : 2.5600000000000003e-09\n",
            "Epoch 1/25:  99%|▉| 200/202 [00:43<00:00,  5.47img2022-12-07 02:03:26,951 train.py[line:360] INFO: Created checkpoint directory\n",
            "2022-12-07 02:03:27,666 train.py[line:364] INFO: Checkpoint 1 saved !\n",
            "Epoch 1/25:  99%|▉| 200/202 [00:43<00:00,  4.55img\n",
            "Epoch 2/25:  18%|▏| 36/202 [00:11<00:43,  3.82img/2022-12-07 02:03:40,479 train.py[line:348] INFO: Train step_60: loss : 71724.9765625,loss xy : 96.69194793701172,loss wh : 8.338273048400879,loss obj : 71328.1953125，loss cls : 291.7525634765625,loss l2 : 26518.701171875,lr : 1.2959999999999998e-08\n",
            "Epoch 2/25:  57%|▌| 116/202 [00:27<00:16,  5.17img2022-12-07 02:03:55,862 train.py[line:348] INFO: Train step_80: loss : 72087.96875,loss xy : 204.3464813232422,loss wh : 22.953580856323242,loss obj : 71236.1328125，loss cls : 624.54296875,loss l2 : 26656.037109375,lr : 4.0960000000000004e-08\n",
            "Epoch 2/25:  97%|▉| 196/202 [00:41<00:01,  5.61img2022-12-07 02:04:10,356 train.py[line:348] INFO: Train step_100: loss : 72136.0546875,loss xy : 196.2623748779297,loss wh : 29.015867233276367,loss obj : 71309.3828125，loss cls : 601.3919677734375,loss l2 : 26704.091796875,lr : 1.0000000000000002e-07\n",
            "Epoch 2/25:  99%|▉| 200/202 [00:42<00:00,  5.55img2022-12-07 02:04:11,297 train.py[line:364] INFO: Checkpoint 2 saved !\n",
            "Epoch 2/25:  99%|▉| 200/202 [00:43<00:00,  4.58img\n",
            "Epoch 3/25:  38%|▍| 76/202 [00:19<00:24,  5.06img/2022-12-07 02:04:31,917 train.py[line:348] INFO: Train step_120: loss : 71668.5625,loss xy : 105.1937026977539,loss wh : 9.029922485351562,loss obj : 71233.0625，loss cls : 321.2759094238281,loss l2 : 26517.287109375,lr : 2.0735999999999997e-07\n",
            "Epoch 3/25:  77%|▊| 156/202 [00:35<00:08,  5.39img2022-12-07 02:04:47,896 train.py[line:348] INFO: Train step_140: loss : 71997.9375,loss xy : 222.65203857421875,loss wh : 46.98512268066406,loss obj : 71047.515625，loss cls : 680.7793579101562,loss l2 : 26670.4375,lr : 3.841600000000001e-07\n",
            "Epoch 3/25:  99%|▉| 200/202 [00:43<00:00,  5.54img2022-12-07 02:04:56,062 train.py[line:364] INFO: Checkpoint 3 saved !\n",
            "Epoch 3/25:  99%|▉| 200/202 [00:44<00:00,  4.47img\n",
            "Epoch 4/25:  18%|▏| 36/202 [00:11<00:44,  3.75img/2022-12-07 02:05:08,820 train.py[line:348] INFO: Train step_160: loss : 71864.9140625,loss xy : 207.62313842773438,loss wh : 29.68611717224121,loss obj : 70995.09375，loss cls : 632.5098266601562,loss l2 : 26591.375,lr : 6.553600000000001e-07\n",
            "Epoch 4/25:  57%|▌| 116/202 [00:27<00:16,  5.21img2022-12-07 02:05:24,265 train.py[line:348] INFO: Train step_180: loss : 71659.453125,loss xy : 148.9706573486328,loss wh : 29.778350830078125,loss obj : 71025.96875，loss cls : 454.7351989746094,loss l2 : 26516.67578125,lr : 1.0497599999999998e-06\n",
            "Epoch 4/25:  97%|▉| 196/202 [00:42<00:01,  5.51img2022-12-07 02:05:38,937 train.py[line:348] INFO: Train step_200: loss : 71618.859375,loss xy : 130.3203125,loss wh : 20.203941345214844,loss obj : 71062.5078125，loss cls : 405.8255615234375,loss l2 : 26534.03125,lr : 1.6000000000000004e-06\n",
            "Epoch 4/25:  99%|▉| 200/202 [00:42<00:00,  5.53img2022-12-07 02:05:39,929 train.py[line:364] INFO: Checkpoint 4 saved !\n",
            "Epoch 4/25:  99%|▉| 200/202 [00:43<00:00,  4.56img\n",
            "Epoch 5/25:  38%|▍| 76/202 [00:19<00:24,  5.15img/2022-12-07 02:06:00,050 train.py[line:348] INFO: Train step_220: loss : 71122.859375,loss xy : 136.70054626464844,loss wh : 20.02983856201172,loss obj : 70544.03125，loss cls : 422.1004943847656,loss l2 : 26285.90234375,lr : 2.34256e-06\n",
            "Epoch 5/25:  77%|▊| 156/202 [00:34<00:08,  5.47img2022-12-07 02:06:15,322 train.py[line:348] INFO: Train step_240: loss : 70772.40625,loss xy : 93.1685562133789,loss wh : 38.27456283569336,loss obj : 70367.8671875，loss cls : 273.0942077636719,loss l2 : 26181.466796875,lr : 3.3177599999999996e-06\n",
            "Epoch 5/25:  99%|▉| 200/202 [00:42<00:00,  5.51img2022-12-07 02:06:23,550 train.py[line:364] INFO: Checkpoint 5 saved !\n",
            "Epoch 5/25:  99%|▉| 200/202 [00:43<00:00,  4.59img\n",
            "Epoch 6/25:  18%|▏| 36/202 [00:12<00:44,  3.72img/2022-12-07 02:06:36,441 train.py[line:348] INFO: Train step_260: loss : 70466.1953125,loss xy : 116.9288558959961,loss wh : 16.422534942626953,loss obj : 69976.765625，loss cls : 356.0801086425781,loss l2 : 26000.158203125,lr : 4.569760000000001e-06\n",
            "Epoch 6/25:  57%|▌| 116/202 [00:27<00:16,  5.17img2022-12-07 02:06:51,907 train.py[line:348] INFO: Train step_280: loss : 70066.484375,loss xy : 103.40184020996094,loss wh : 5.520613670349121,loss obj : 69647.7265625，loss cls : 309.8367614746094,loss l2 : 25836.6875,lr : 6.146560000000002e-06\n",
            "Epoch 6/25:  97%|▉| 196/202 [00:42<00:01,  5.53img2022-12-07 02:07:06,531 train.py[line:348] INFO: Train step_300: loss : 68694.28125,loss xy : 137.68582153320312,loss wh : 25.628042221069336,loss obj : 68126.296875，loss cls : 404.67059326171875,loss l2 : 25176.052734375,lr : 8.1e-06\n",
            "Epoch 6/25:  99%|▉| 200/202 [00:42<00:00,  5.53img2022-12-07 02:07:07,516 train.py[line:364] INFO: Checkpoint 6 saved !\n",
            "Epoch 6/25:  99%|▉| 200/202 [00:43<00:00,  4.55img\n",
            "Epoch 7/25:  38%|▍| 76/202 [00:20<00:24,  5.14img/2022-12-07 02:07:28,355 train.py[line:348] INFO: Train step_320: loss : 66940.25,loss xy : 101.50556945800781,loss wh : 15.996275901794434,loss obj : 66520.7421875，loss cls : 302.0059814453125,loss l2 : 24338.525390625,lr : 1.0485760000000001e-05\n",
            "Epoch 7/25:  77%|▊| 156/202 [00:35<00:08,  5.48img2022-12-07 02:07:43,515 train.py[line:348] INFO: Train step_340: loss : 65581.9375,loss xy : 162.04891967773438,loss wh : 12.154720306396484,loss obj : 64933.6171875，loss cls : 474.1142578125,loss l2 : 23647.166015625,lr : 1.3363360000000005e-05\n",
            "Epoch 7/25:  99%|▉| 200/202 [00:43<00:00,  5.53img2022-12-07 02:07:51,884 train.py[line:364] INFO: Checkpoint 7 saved !\n",
            "Epoch 7/25:  99%|▉| 200/202 [00:44<00:00,  4.51img\n",
            "Epoch 8/25:  18%|▏| 36/202 [00:12<00:46,  3.61img/2022-12-07 02:08:05,208 train.py[line:348] INFO: Train step_360: loss : 63814.27734375,loss xy : 284.90875244140625,loss wh : 33.49577331542969,loss obj : 62662.2578125，loss cls : 833.614501953125,loss l2 : 22733.984375,lr : 1.6796159999999997e-05\n",
            "Epoch 8/25:  57%|▌| 116/202 [00:28<00:16,  5.15img2022-12-07 02:08:21,569 train.py[line:348] INFO: Train step_380: loss : 60662.109375,loss xy : 201.28024291992188,loss wh : 29.896156311035156,loss obj : 59847.5703125，loss cls : 583.3648071289062,loss l2 : 21279.626953125,lr : 2.085136e-05\n",
            "Epoch 8/25:  97%|▉| 196/202 [00:43<00:01,  5.59img2022-12-07 02:08:36,084 train.py[line:348] INFO: Train step_400: loss : 57724.89453125,loss xy : 108.8150405883789,loss wh : 7.685320854187012,loss obj : 57300.375，loss cls : 308.0179443359375,loss l2 : 19912.201171875,lr : 2.5600000000000006e-05\n",
            "Epoch 8/25:  99%|▉| 200/202 [00:44<00:00,  5.57img2022-12-07 02:08:37,236 train.py[line:364] INFO: Checkpoint 8 saved !\n",
            "Epoch 8/25:  99%|▉| 200/202 [00:45<00:00,  4.41img\n",
            "Epoch 9/25:  38%|▍| 76/202 [00:20<00:24,  5.04img/2022-12-07 02:08:57,999 train.py[line:348] INFO: Train step_420: loss : 55271.98828125,loss xy : 42.1052131652832,loss wh : 3.45070219039917,loss obj : 55113.7734375，loss cls : 112.6604232788086,loss l2 : 18752.861328125,lr : 3.111696e-05\n",
            "Epoch 9/25:  77%|▊| 156/202 [00:35<00:08,  5.49img2022-12-07 02:09:13,234 train.py[line:348] INFO: Train step_440: loss : 52415.25,loss xy : 39.040348052978516,loss wh : 1.6722383499145508,loss obj : 52272.71484375，loss cls : 101.82469940185547,loss l2 : 17400.326171875,lr : 3.748096e-05\n",
            "Epoch 9/25:  99%|▉| 200/202 [00:43<00:00,  5.62img2022-12-07 02:09:21,331 train.py[line:364] INFO: Checkpoint 9 saved !\n",
            "Epoch 9/25:  99%|▉| 200/202 [00:44<00:00,  4.54img\n",
            "Epoch 10/25:  18%|▏| 36/202 [00:11<00:41,  3.96img2022-12-07 02:09:33,383 train.py[line:348] INFO: Train step_460: loss : 49472.30859375,loss xy : 142.78221130371094,loss wh : 23.688241958618164,loss obj : 48919.1484375，loss cls : 386.6898193359375,loss l2 : 15939.73046875,lr : 4.477456000000001e-05\n",
            "Epoch 10/25:  57%|▌| 116/202 [00:26<00:16,  5.15im2022-12-07 02:09:48,974 train.py[line:348] INFO: Train step_480: loss : 46304.4140625,loss xy : 169.19065856933594,loss wh : 53.8300666809082,loss obj : 45635.98828125，loss cls : 445.40496826171875,loss l2 : 14531.44921875,lr : 5.308415999999999e-05\n",
            "Epoch 10/25:  97%|▉| 196/202 [00:41<00:01,  5.56im2022-12-07 02:10:03,488 train.py[line:348] INFO: Train step_500: loss : 41994.2890625,loss xy : 132.3706512451172,loss wh : 4.922174453735352,loss obj : 41539.11328125，loss cls : 317.8847351074219,loss l2 : 12465.529296875,lr : 6.25e-05\n",
            "Epoch 10/25:  99%|▉| 200/202 [00:42<00:00,  5.54im2022-12-07 02:10:04,420 train.py[line:364] INFO: Checkpoint 10 saved !\n",
            "Epoch 10/25:  99%|▉| 200/202 [00:43<00:00,  4.64im\n",
            "Epoch 11/25:  38%|▍| 76/202 [00:18<00:25,  5.00img2022-12-07 02:10:24,037 train.py[line:348] INFO: Train step_520: loss : 39410.76171875,loss xy : 125.55873107910156,loss wh : 13.01942253112793,loss obj : 38948.02734375，loss cls : 324.1565856933594,loss l2 : 11351.8427734375,lr : 7.311616000000002e-05\n",
            "Epoch 11/25:  77%|▊| 156/202 [00:34<00:08,  5.52im2022-12-07 02:10:39,334 train.py[line:348] INFO: Train step_540: loss : 37986.14453125,loss xy : 195.76870727539062,loss wh : 35.810184478759766,loss obj : 37259.25，loss cls : 495.315185546875,loss l2 : 10733.6015625,lr : 8.503056000000002e-05\n",
            "Epoch 11/25:  99%|▉| 200/202 [00:42<00:00,  5.56im2022-12-07 02:10:47,489 train.py[line:364] INFO: Checkpoint 11 saved !\n",
            "Epoch 11/25:  99%|▉| 200/202 [00:43<00:00,  4.64im\n",
            "Epoch 12/25:  18%|▏| 36/202 [00:11<00:43,  3.80img2022-12-07 02:11:00,082 train.py[line:348] INFO: Train step_560: loss : 34995.2109375,loss xy : 162.91659545898438,loss wh : 7.6151347160339355,loss obj : 34451.0078125，loss cls : 373.6725158691406,loss l2 : 9436.43359375,lr : 9.834496000000003e-05\n",
            "Epoch 12/25:  57%|▌| 116/202 [00:27<00:16,  5.07im2022-12-07 02:11:16,023 train.py[line:348] INFO: Train step_580: loss : 32949.63671875,loss xy : 73.40373992919922,loss wh : 6.245041847229004,loss obj : 32706.603515625，loss cls : 163.3816680908203,loss l2 : 8636.798828125,lr : 0.00011316495999999998\n",
            "Epoch 12/25:  97%|▉| 196/202 [00:42<00:01,  5.53im2022-12-07 02:11:30,659 train.py[line:348] INFO: Train step_600: loss : 31356.646484375,loss xy : 97.52326202392578,loss wh : 10.035881042480469,loss obj : 31052.0390625，loss cls : 197.0496826171875,loss l2 : 7984.26171875,lr : 0.0001296\n",
            "Epoch 12/25:  99%|▉| 200/202 [00:43<00:00,  5.55im2022-12-07 02:11:31,827 train.py[line:364] INFO: Checkpoint 12 saved !\n",
            "Epoch 12/25:  99%|▉| 200/202 [00:44<00:00,  4.51im\n",
            "Epoch 13/25:  38%|▍| 76/202 [00:19<00:25,  4.92img2022-12-07 02:11:52,571 train.py[line:348] INFO: Train step_620: loss : 29547.4765625,loss xy : 159.5307159423828,loss wh : 22.081344604492188,loss obj : 29060.455078125，loss cls : 305.41015625,loss l2 : 7227.96142578125,lr : 0.00014776335999999997\n",
            "Epoch 13/25:  77%|▊| 156/202 [00:35<00:08,  5.52im2022-12-07 02:12:07,780 train.py[line:348] INFO: Train step_640: loss : 28703.50390625,loss xy : 74.77278900146484,loss wh : 7.111017227172852,loss obj : 28483.900390625，loss cls : 137.71778869628906,loss l2 : 6914.5751953125,lr : 0.00016777216000000002\n",
            "Epoch 13/25:  99%|▉| 200/202 [00:43<00:00,  5.59im2022-12-07 02:12:15,950 train.py[line:364] INFO: Checkpoint 13 saved !\n",
            "Epoch 13/25:  99%|▉| 200/202 [00:44<00:00,  4.53im\n",
            "Epoch 14/25:  18%|▏| 36/202 [00:12<00:44,  3.73img2022-12-07 02:12:28,775 train.py[line:348] INFO: Train step_660: loss : 27984.294921875,loss xy : 268.96563720703125,loss wh : 39.45526123046875,loss obj : 27147.666015625，loss cls : 528.2091064453125,loss l2 : 6634.1806640625,lr : 0.00018974736000000004\n",
            "Epoch 14/25:  57%|▌| 116/202 [00:27<00:16,  5.18im2022-12-07 02:12:44,283 train.py[line:348] INFO: Train step_680: loss : 25368.4453125,loss xy : 211.7064971923828,loss wh : 15.284622192382812,loss obj : 24781.103515625，loss cls : 360.3512268066406,loss l2 : 5597.453125,lr : 0.0002138137600000001\n",
            "Epoch 14/25:  97%|▉| 196/202 [00:42<00:01,  5.50im2022-12-07 02:12:58,874 train.py[line:348] INFO: Train step_700: loss : 24953.3828125,loss xy : 174.18365478515625,loss wh : 16.161975860595703,loss obj : 24452.15234375，loss cls : 310.8846435546875,loss l2 : 5477.74267578125,lr : 0.00024009999999999995\n",
            "Epoch 14/25:  99%|▉| 200/202 [00:42<00:00,  5.49im2022-12-07 02:12:59,861 train.py[line:364] INFO: Checkpoint 14 saved !\n",
            "Epoch 14/25:  99%|▉| 200/202 [00:43<00:00,  4.55im\n",
            "Epoch 15/25:  38%|▍| 76/202 [00:18<00:24,  5.13img2022-12-07 02:13:19,463 train.py[line:348] INFO: Train step_720: loss : 22254.623046875,loss xy : 133.27017211914062,loss wh : 7.863062858581543,loss obj : 21900.435546875，loss cls : 213.05508422851562,loss l2 : 4484.66796875,lr : 0.00026873855999999996\n",
            "Epoch 15/25:  77%|▊| 156/202 [00:33<00:08,  5.57im2022-12-07 02:13:34,481 train.py[line:348] INFO: Train step_740: loss : 20608.611328125,loss xy : 108.94935607910156,loss wh : 5.195594787597656,loss obj : 20343.833984375，loss cls : 150.63302612304688,loss l2 : 3934.14794921875,lr : 0.00029986575999999996\n",
            "Epoch 15/25:  99%|▉| 200/202 [00:41<00:00,  5.51im2022-12-07 02:13:42,650 train.py[line:364] INFO: Checkpoint 15 saved !\n",
            "Epoch 15/25:  99%|▉| 200/202 [00:42<00:00,  4.67im\n",
            "Epoch 16/25:  18%|▏| 36/202 [00:11<00:43,  3.85img2022-12-07 02:13:54,938 train.py[line:348] INFO: Train step_760: loss : 19433.703125,loss xy : 170.86837768554688,loss wh : 9.139063835144043,loss obj : 18985.162109375，loss cls : 268.53369140625,loss l2 : 3554.233154296875,lr : 0.00033362176\n",
            "Epoch 16/25:  57%|▌| 116/202 [00:27<00:16,  5.09im2022-12-07 02:14:10,643 train.py[line:348] INFO: Train step_780: loss : 18636.16796875,loss xy : 260.4834289550781,loss wh : 66.48529815673828,loss obj : 17871.89453125，loss cls : 437.30548095703125,loss l2 : 3386.6494140625,lr : 0.00037015056000000006\n",
            "Epoch 16/25:  97%|▉| 196/202 [00:41<00:01,  5.48im2022-12-07 02:14:25,234 train.py[line:348] INFO: Train step_800: loss : 16854.279296875,loss xy : 104.14231872558594,loss wh : 38.25109100341797,loss obj : 16551.314453125，loss cls : 160.57205200195312,loss l2 : 2834.796875,lr : 0.0004096000000000001\n",
            "Epoch 16/25:  99%|▉| 200/202 [00:42<00:00,  5.51im2022-12-07 02:14:26,224 train.py[line:364] INFO: Checkpoint 16 saved !\n",
            "Epoch 16/25:  99%|▉| 200/202 [00:43<00:00,  4.59im\n",
            "Epoch 17/25:  38%|▍| 76/202 [00:19<00:24,  5.17img2022-12-07 02:14:46,373 train.py[line:348] INFO: Train step_820: loss : 15351.2900390625,loss xy : 173.15438842773438,loss wh : 8.744668960571289,loss obj : 14936.47265625，loss cls : 232.91810607910156,loss l2 : 2350.663818359375,lr : 0.0004521217599999999\n",
            "Epoch 17/25:  77%|▊| 156/202 [00:34<00:08,  5.46im2022-12-07 02:15:01,598 train.py[line:348] INFO: Train step_840: loss : 13614.5302734375,loss xy : 22.691844940185547,loss wh : 1.20436692237854,loss obj : 13550.3916015625，loss cls : 40.24177169799805,loss l2 : 1893.22998046875,lr : 0.00049787136\n",
            "Epoch 17/25:  99%|▉| 200/202 [00:42<00:00,  5.56im2022-12-07 02:15:09,704 train.py[line:364] INFO: Checkpoint 17 saved !\n",
            "Epoch 17/25:  99%|▉| 200/202 [00:43<00:00,  4.60im\n",
            "Epoch 18/25:  18%|▏| 36/202 [00:12<00:51,  3.24img2022-12-07 02:15:23,124 train.py[line:348] INFO: Train step_860: loss : 12646.474609375,loss xy : 155.93922424316406,loss wh : 13.859945297241211,loss obj : 12261.9140625，loss cls : 214.76214599609375,loss l2 : 1671.183837890625,lr : 0.00054700816\n",
            "Epoch 18/25:  57%|▌| 116/202 [00:28<00:16,  5.12im2022-12-07 02:15:38,731 train.py[line:348] INFO: Train step_880: loss : 11449.3310546875,loss xy : 133.3588104248047,loss wh : 8.357588768005371,loss obj : 11118.8427734375，loss cls : 188.77188110351562,loss l2 : 1396.0595703125,lr : 0.00059969536\n",
            "Epoch 18/25:  97%|▉| 196/202 [00:42<00:01,  5.61im2022-12-07 02:15:53,332 train.py[line:348] INFO: Train step_900: loss : 10590.9072265625,loss xy : 185.40072631835938,loss wh : 20.013267517089844,loss obj : 10133.8369140625，loss cls : 251.65614318847656,loss l2 : 1245.27001953125,lr : 0.0006561000000000001\n",
            "Epoch 18/25:  99%|▉| 200/202 [00:43<00:00,  5.53im2022-12-07 02:15:54,298 train.py[line:364] INFO: Checkpoint 18 saved !\n",
            "Epoch 18/25:  99%|▉| 200/202 [00:44<00:00,  4.48im\n",
            "Epoch 19/25:  38%|▍| 76/202 [00:19<00:24,  5.07img2022-12-07 02:16:15,005 train.py[line:348] INFO: Train step_920: loss : 9412.8837890625,loss xy : 115.81416320800781,loss wh : 17.12531280517578,loss obj : 9121.119140625，loss cls : 158.82479858398438,loss l2 : 1010.0651245117188,lr : 0.0007163929600000001\n",
            "Epoch 19/25:  77%|▊| 156/202 [00:35<00:08,  5.53im2022-12-07 02:16:30,212 train.py[line:348] INFO: Train step_940: loss : 8402.8505859375,loss xy : 129.29852294921875,loss wh : 5.140223026275635,loss obj : 8102.5625，loss cls : 165.84945678710938,loss l2 : 800.5806884765625,lr : 0.0007807489599999998\n",
            "Epoch 19/25:  99%|▉| 200/202 [00:43<00:00,  5.57im2022-12-07 02:16:38,411 train.py[line:364] INFO: Checkpoint 19 saved !\n",
            "Epoch 19/25:  99%|▉| 200/202 [00:44<00:00,  4.53im\n",
            "Epoch 20/25:  18%|▏| 36/202 [00:11<00:41,  3.99img2022-12-07 02:16:50,446 train.py[line:348] INFO: Train step_960: loss : 7479.3359375,loss xy : 96.5154800415039,loss wh : 7.825413703918457,loss obj : 7252.77783203125，loss cls : 122.2175064086914,loss l2 : 648.8671875,lr : 0.0008493465599999999\n",
            "Epoch 20/25:  57%|▌| 116/202 [00:26<00:16,  5.07im2022-12-07 02:17:05,929 train.py[line:348] INFO: Train step_980: loss : 7133.2666015625,loss xy : 235.841064453125,loss wh : 23.82258415222168,loss obj : 6551.56494140625，loss cls : 322.0381774902344,loss l2 : 658.981689453125,lr : 0.0009223681599999999\n",
            "Epoch 20/25:  97%|▉| 196/202 [00:41<00:01,  5.51im2022-12-07 02:17:20,610 train.py[line:348] INFO: Train step_1000: loss : 5907.912109375,loss xy : 90.95914459228516,loss wh : 7.91157865524292,loss obj : 5695.19189453125，loss cls : 113.8495864868164,loss l2 : 428.89874267578125,lr : 0.001\n",
            "Epoch 20/25:  99%|▉| 200/202 [00:42<00:00,  5.53im2022-12-07 02:17:21,578 train.py[line:364] INFO: Checkpoint 20 saved !\n",
            "Epoch 20/25:  99%|▉| 200/202 [00:43<00:00,  4.63im\n",
            "Epoch 21/25:  38%|▍| 76/202 [00:20<00:24,  5.05img2022-12-07 02:17:42,491 train.py[line:348] INFO: Train step_1020: loss : 5448.01513671875,loss xy : 143.460693359375,loss wh : 10.742268562316895,loss obj : 5114.10693359375，loss cls : 179.70518493652344,loss l2 : 389.4918212890625,lr : 0.001\n",
            "Epoch 21/25:  77%|▊| 156/202 [00:35<00:08,  5.46im2022-12-07 02:17:57,675 train.py[line:348] INFO: Train step_1040: loss : 4946.7216796875,loss xy : 123.01776885986328,loss wh : 38.81633758544922,loss obj : 4629.025390625，loss cls : 155.86219787597656,loss l2 : 385.8056640625,lr : 0.001\n",
            "Epoch 21/25:  99%|▉| 200/202 [00:43<00:00,  5.53im2022-12-07 02:18:05,866 train.py[line:364] INFO: Checkpoint 21 saved !\n",
            "Epoch 21/25:  99%|▉| 200/202 [00:44<00:00,  4.52im\n",
            "Epoch 22/25:  18%|▏| 36/202 [00:10<00:40,  4.07img2022-12-07 02:18:17,390 train.py[line:348] INFO: Train step_1060: loss : 4494.67431640625,loss xy : 106.79034423828125,loss wh : 40.5282096862793,loss obj : 4202.3447265625，loss cls : 145.01123046875,loss l2 : 336.0611572265625,lr : 0.001\n",
            "Epoch 22/25:  57%|▌| 116/202 [00:26<00:16,  5.08im2022-12-07 02:18:32,917 train.py[line:348] INFO: Train step_1080: loss : 3904.07080078125,loss xy : 55.22197723388672,loss wh : 6.1949615478515625,loss obj : 3780.79931640625，loss cls : 61.85453796386719,loss l2 : 201.12986755371094,lr : 0.001\n",
            "Epoch 22/25:  97%|▉| 196/202 [00:40<00:01,  5.61im2022-12-07 02:18:47,406 train.py[line:348] INFO: Train step_1100: loss : 3734.393798828125,loss xy : 94.83000946044922,loss wh : 8.247698783874512,loss obj : 3520.219970703125，loss cls : 111.09619140625,loss l2 : 212.76901245117188,lr : 0.001\n",
            "Epoch 22/25:  99%|▉| 200/202 [00:41<00:00,  5.60im2022-12-07 02:18:48,355 train.py[line:364] INFO: Checkpoint 22 saved !\n",
            "Epoch 22/25:  99%|▉| 200/202 [00:42<00:00,  4.71im\n",
            "Epoch 23/25:  38%|▍| 76/202 [00:21<00:25,  5.00img2022-12-07 02:19:10,201 train.py[line:348] INFO: Train step_1120: loss : 3620.150390625,loss xy : 120.95243835449219,loss wh : 6.114863872528076,loss obj : 3339.93359375，loss cls : 153.14932250976562,loss l2 : 216.32073974609375,lr : 0.001\n",
            "Epoch 23/25:  77%|▊| 156/202 [00:36<00:08,  5.42im2022-12-07 02:19:25,333 train.py[line:348] INFO: Train step_1140: loss : 3180.206787109375,loss xy : 103.44710540771484,loss wh : 3.4138381481170654,loss obj : 2950.12158203125，loss cls : 123.2243881225586,loss l2 : 156.14227294921875,lr : 0.001\n",
            "Epoch 23/25:  99%|▉| 200/202 [00:44<00:00,  5.63im2022-12-07 02:19:33,477 train.py[line:364] INFO: Checkpoint 23 saved !\n",
            "Epoch 23/25:  99%|▉| 200/202 [00:45<00:00,  4.43im\n",
            "Epoch 24/25:  18%|▏| 36/202 [00:11<00:40,  4.06img2022-12-07 02:19:45,354 train.py[line:348] INFO: Train step_1160: loss : 3035.065673828125,loss xy : 128.72291564941406,loss wh : 3.3414900302886963,loss obj : 2747.802978515625，loss cls : 155.19825744628906,loss l2 : 153.014892578125,lr : 0.001\n",
            "Epoch 24/25:  57%|▌| 116/202 [00:26<00:16,  5.15im2022-12-07 02:20:00,909 train.py[line:348] INFO: Train step_1180: loss : 2760.23583984375,loss xy : 82.52232360839844,loss wh : 3.644348621368408,loss obj : 2579.400390625，loss cls : 94.66869354248047,loss l2 : 129.16676330566406,lr : 0.001\n",
            "Epoch 24/25:  97%|▉| 196/202 [00:41<00:01,  5.58im2022-12-07 02:20:15,451 train.py[line:348] INFO: Train step_1200: loss : 2731.972412109375,loss xy : 163.58175659179688,loss wh : 5.429597854614258,loss obj : 2388.6015625，loss cls : 174.35951232910156,loss l2 : 146.8540802001953,lr : 0.001\n",
            "Epoch 24/25:  99%|▉| 200/202 [00:41<00:00,  5.53im2022-12-07 02:20:16,408 train.py[line:364] INFO: Checkpoint 24 saved !\n",
            "Epoch 24/25:  99%|▉| 200/202 [00:42<00:00,  4.66im\n",
            "Epoch 25/25:  38%|▍| 76/202 [00:19<00:24,  5.09img2022-12-07 02:20:37,007 train.py[line:348] INFO: Train step_1220: loss : 2300.284423828125,loss xy : 26.912534713745117,loss wh : 1.4809238910675049,loss obj : 2236.1748046875，loss cls : 35.71600341796875,loss l2 : 77.69747924804688,lr : 0.001\n",
            "Epoch 25/25:  77%|▊| 156/202 [00:35<00:08,  5.46im2022-12-07 02:20:52,212 train.py[line:348] INFO: Train step_1240: loss : 2177.023681640625,loss xy : 49.24427795410156,loss wh : 6.558816909790039,loss obj : 2060.725830078125，loss cls : 60.494972229003906,loss l2 : 90.4051513671875,lr : 0.001\n",
            "Epoch 25/25:  99%|▉| 200/202 [00:42<00:00,  5.63im2022-12-07 02:21:00,301 train.py[line:364] INFO: Checkpoint 25 saved !\n",
            "Epoch 25/25:  99%|▉| 200/202 [00:43<00:00,  4.56im\n"
          ]
        }
      ]
    },
    {
      "cell_type": "code",
      "metadata": {
        "id": "4Pmo02Q6rbla",
        "colab": {
          "base_uri": "https://localhost:8080/"
        },
        "outputId": "2bb6e71f-b0e3-4501-b460-db66016e9d4c"
      },
      "source": [
        "# continue training from the checkpoints\n",
        "!python train.py -b 4 -s 1 -l 0.001 -g 0 -pretrained ./checkpoints/Yolov4_epoch1.pth -classes {num_classes} -dir ./train -epochs 25"
      ],
      "execution_count": null,
      "outputs": [
        {
          "output_type": "stream",
          "name": "stdout",
          "text": [
            "log file path:log/log_2022-12-07_02-21-15.txt\n",
            "2022-12-07 02:21:15,955 train.py[line:435] INFO: Using device cuda\n",
            "2022-12-07 02:21:20,702 train.py[line:268] INFO: Starting training:\n",
            "        Epochs:          25\n",
            "        Batch size:      4\n",
            "        Subdivisions:    1\n",
            "        Learning rate:   0.001\n",
            "        Training size:   202\n",
            "        Validation size: 58\n",
            "        Checkpoints:     True\n",
            "        Device:          cuda\n",
            "        Images size:     608\n",
            "        Optimizer:       adam\n",
            "        Dataset classes: 12\n",
            "        Train label path:train.txt\n",
            "        Pretrained:\n",
            "    \n",
            "Epoch 1/25:   0%|        | 0/202 [00:00<?, ?img/s]/usr/local/lib/python3.8/dist-packages/torch/nn/_reduction.py:43: UserWarning: size_average and reduce args will be deprecated, please use reduction='sum' instead.\n",
            "  warnings.warn(warning.format(ret))\n",
            "Epoch 1/25:  38%|▍| 76/202 [00:20<00:24,  5.16img//usr/local/lib/python3.8/dist-packages/torch/optim/lr_scheduler.py:224: UserWarning: To get the last learning rate computed by the scheduler, please use `get_last_lr()`.\n",
            "  warnings.warn(\"To get the last learning rate computed by the scheduler, \"\n",
            "2022-12-07 02:21:41,677 train.py[line:348] INFO: Train step_20: loss : 61080.66796875,loss xy : 219.8450164794922,loss wh : 36.11729431152344,loss obj : 60162.60546875，loss cls : 662.1021118164062,loss l2 : 21634.46875,lr : 1.6000000000000002e-10\n",
            "Epoch 1/25:  77%|▊| 156/202 [00:35<00:08,  5.38img2022-12-07 02:21:56,938 train.py[line:348] INFO: Train step_40: loss : 61165.10546875,loss xy : 201.00732421875,loss wh : 47.40777587890625,loss obj : 60274.57421875，loss cls : 642.1190185546875,loss l2 : 21710.888671875,lr : 2.5600000000000003e-09\n",
            "Epoch 1/25:  99%|▉| 200/202 [00:43<00:00,  5.47img2022-12-07 02:22:05,322 train.py[line:364] INFO: Checkpoint 1 saved !\n",
            "Epoch 1/25:  99%|▉| 200/202 [00:44<00:00,  4.48img\n",
            "Epoch 2/25:  18%|▏| 36/202 [00:12<00:46,  3.57img/2022-12-07 02:22:18,699 train.py[line:348] INFO: Train step_60: loss : 61074.16015625,loss xy : 179.6370086669922,loss wh : 95.36576843261719,loss obj : 60239.59765625，loss cls : 559.5594482421875,loss l2 : 21749.28515625,lr : 1.2959999999999998e-08\n",
            "Epoch 2/25:  57%|▌| 116/202 [00:28<00:16,  5.15img2022-12-07 02:22:34,269 train.py[line:348] INFO: Train step_80: loss : 60665.65625,loss xy : 105.31912994384766,loss wh : 17.996570587158203,loss obj : 60221.46875，loss cls : 320.87109375,loss l2 : 21489.88671875,lr : 4.0960000000000004e-08\n",
            "Epoch 2/25:  97%|▉| 196/202 [00:43<00:01,  5.60img2022-12-07 02:22:49,374 train.py[line:348] INFO: Train step_100: loss : 60982.93359375,loss xy : 170.935302734375,loss wh : 27.382247924804688,loss obj : 60245.8359375，loss cls : 538.7820434570312,loss l2 : 21620.03515625,lr : 1.0000000000000002e-07\n",
            "Epoch 2/25:  99%|▉| 200/202 [00:44<00:00,  5.56img2022-12-07 02:22:50,341 train.py[line:364] INFO: Checkpoint 2 saved !\n",
            "Epoch 2/25:  99%|▉| 200/202 [00:45<00:00,  4.44img\n",
            "Epoch 3/25:  38%|▍| 76/202 [00:19<00:24,  5.06img/2022-12-07 02:23:11,139 train.py[line:348] INFO: Train step_120: loss : 61280.34765625,loss xy : 253.39634704589844,loss wh : 47.46720886230469,loss obj : 60191.296875，loss cls : 788.1891479492188,loss l2 : 21725.71484375,lr : 2.0735999999999997e-07\n",
            "Epoch 3/25:  77%|▊| 156/202 [00:35<00:08,  5.51img2022-12-07 02:23:26,306 train.py[line:348] INFO: Train step_140: loss : 61006.69140625,loss xy : 176.10450744628906,loss wh : 15.802212715148926,loss obj : 60263.7734375，loss cls : 551.0130004882812,loss l2 : 21611.33203125,lr : 3.841600000000001e-07\n",
            "Epoch 3/25:  99%|▉| 200/202 [00:43<00:00,  5.54img2022-12-07 02:23:34,469 train.py[line:364] INFO: Checkpoint 3 saved !\n",
            "Epoch 3/25:  99%|▉| 200/202 [00:44<00:00,  4.53img\n",
            "Epoch 4/25:  18%|▏| 36/202 [00:11<00:44,  3.74img/2022-12-07 02:23:47,244 train.py[line:348] INFO: Train step_160: loss : 61028.8125,loss xy : 203.71937561035156,loss wh : 29.292306900024414,loss obj : 60150.5390625，loss cls : 645.263671875,loss l2 : 21619.1484375,lr : 6.553600000000001e-07\n",
            "Epoch 4/25:  57%|▌| 116/202 [00:27<00:16,  5.10img2022-12-07 02:24:02,600 train.py[line:348] INFO: Train step_180: loss : 60695.87890625,loss xy : 140.55905151367188,loss wh : 19.300540924072266,loss obj : 60091.47265625，loss cls : 444.5461120605469,loss l2 : 21495.16796875,lr : 1.0497599999999998e-06\n",
            "Epoch 4/25:  97%|▉| 196/202 [00:42<00:01,  5.62img2022-12-07 02:24:17,249 train.py[line:348] INFO: Train step_200: loss : 60432.44140625,loss xy : 127.97310638427734,loss wh : 14.444478034973145,loss obj : 59886.22265625，loss cls : 403.80126953125,loss l2 : 21354.30078125,lr : 1.6000000000000004e-06\n",
            "Epoch 4/25:  99%|▉| 200/202 [00:42<00:00,  5.60img2022-12-07 02:24:18,243 train.py[line:364] INFO: Checkpoint 4 saved !\n",
            "Epoch 4/25:  99%|▉| 200/202 [00:43<00:00,  4.57img\n",
            "Epoch 5/25:  38%|▍| 76/202 [00:19<00:25,  5.04img/2022-12-07 02:24:38,698 train.py[line:348] INFO: Train step_220: loss : 60637.56640625,loss xy : 212.14212036132812,loss wh : 36.342857360839844,loss obj : 59724.69921875，loss cls : 664.3838500976562,loss l2 : 21437.84765625,lr : 2.34256e-06\n",
            "Epoch 5/25:  77%|▊| 156/202 [00:34<00:08,  5.46img2022-12-07 02:24:53,811 train.py[line:348] INFO: Train step_240: loss : 59772.765625,loss xy : 102.4817123413086,loss wh : 21.232196807861328,loss obj : 59335.171875，loss cls : 313.880859375,loss l2 : 21067.107421875,lr : 3.3177599999999996e-06\n",
            "Epoch 5/25:  99%|▉| 200/202 [00:42<00:00,  5.56img2022-12-07 02:25:02,060 train.py[line:364] INFO: Checkpoint 5 saved !\n",
            "Epoch 5/25:  99%|▉| 200/202 [00:43<00:00,  4.56img\n",
            "Epoch 6/25:  18%|▏| 36/202 [00:11<00:42,  3.87img/2022-12-07 02:25:14,370 train.py[line:348] INFO: Train step_260: loss : 59683.48828125,loss xy : 174.03208923339844,loss wh : 26.637264251708984,loss obj : 58944.33984375，loss cls : 538.4822387695312,loss l2 : 20990.0625,lr : 4.569760000000001e-06\n",
            "Epoch 6/25:  57%|▌| 116/202 [00:27<00:16,  5.23img2022-12-07 02:25:29,983 train.py[line:348] INFO: Train step_280: loss : 58922.1328125,loss xy : 215.1591339111328,loss wh : 23.74104881286621,loss obj : 58030.56640625，loss cls : 652.6669311523438,loss l2 : 20575.16015625,lr : 6.146560000000002e-06\n",
            "Epoch 6/25:  97%|▉| 196/202 [00:41<00:01,  5.59img2022-12-07 02:25:44,502 train.py[line:348] INFO: Train step_300: loss : 57528.7578125,loss xy : 148.5152587890625,loss wh : 15.130942344665527,loss obj : 56917.99609375，loss cls : 447.1160888671875,loss l2 : 19937.13671875,lr : 8.1e-06\n",
            "Epoch 6/25:  99%|▉| 200/202 [00:42<00:00,  5.57img2022-12-07 02:25:45,527 train.py[line:364] INFO: Checkpoint 6 saved !\n",
            "Epoch 6/25:  99%|▉| 200/202 [00:43<00:00,  4.60img\n",
            "Epoch 7/25:  38%|▍| 76/202 [00:19<00:24,  5.21img/2022-12-07 02:26:05,748 train.py[line:348] INFO: Train step_320: loss : 55992.9765625,loss xy : 104.11878967285156,loss wh : 20.56191635131836,loss obj : 55553.28125，loss cls : 315.01702880859375,loss l2 : 19217.146484375,lr : 1.0485760000000001e-05\n",
            "Epoch 7/25:  77%|▊| 156/202 [00:35<00:08,  5.35img2022-12-07 02:26:21,888 train.py[line:348] INFO: Train step_340: loss : 54550.18359375,loss xy : 152.48187255859375,loss wh : 15.326591491699219,loss obj : 53921.38671875，loss cls : 460.9873962402344,loss l2 : 18457.322265625,lr : 1.3363360000000005e-05\n",
            "Epoch 7/25:  99%|▉| 200/202 [00:43<00:00,  5.51img2022-12-07 02:26:30,105 train.py[line:364] INFO: Checkpoint 7 saved !\n",
            "Epoch 7/25:  99%|▉| 200/202 [00:44<00:00,  4.49img\n",
            "Epoch 8/25:  18%|▏| 36/202 [00:11<00:42,  3.91img/2022-12-07 02:26:42,236 train.py[line:348] INFO: Train step_360: loss : 51880.0546875,loss xy : 76.77894592285156,loss wh : 11.138208389282227,loss obj : 51563.70703125，loss cls : 228.4293670654297,loss l2 : 17227.392578125,lr : 1.6796159999999997e-05\n",
            "Epoch 8/25:  57%|▌| 116/202 [00:26<00:16,  5.16img2022-12-07 02:26:57,648 train.py[line:348] INFO: Train step_380: loss : 50209.140625,loss xy : 118.46621704101562,loss wh : 16.654987335205078,loss obj : 49717.62109375，loss cls : 356.39862060546875,loss l2 : 16412.59765625,lr : 2.085136e-05\n",
            "Epoch 8/25:  97%|▉| 196/202 [00:41<00:01,  5.58img2022-12-07 02:27:12,279 train.py[line:348] INFO: Train step_400: loss : 48770.58984375,loss xy : 125.64972686767578,loss wh : 11.522904396057129,loss obj : 48268.5234375，loss cls : 364.8926696777344,loss l2 : 15713.8388671875,lr : 2.5600000000000006e-05\n",
            "Epoch 8/25:  99%|▉| 200/202 [00:42<00:00,  5.55img2022-12-07 02:27:13,217 train.py[line:364] INFO: Checkpoint 8 saved !\n",
            "Epoch 8/25:  99%|▉| 200/202 [00:43<00:00,  4.64img\n",
            "Epoch 9/25:  38%|▍| 76/202 [00:19<00:24,  5.12img/2022-12-07 02:27:33,667 train.py[line:348] INFO: Train step_420: loss : 46980.7421875,loss xy : 297.73040771484375,loss wh : 21.143409729003906,loss obj : 45829.7890625，loss cls : 832.076416015625,loss l2 : 14772.369140625,lr : 3.111696e-05\n",
            "Epoch 9/25:  77%|▊| 156/202 [00:34<00:08,  5.51img2022-12-07 02:27:48,867 train.py[line:348] INFO: Train step_440: loss : 44448.3671875,loss xy : 182.9564666748047,loss wh : 23.32981300354004,loss obj : 43757.35546875，loss cls : 484.7252197265625,loss l2 : 13668.2646484375,lr : 3.748096e-05\n",
            "Epoch 9/25:  99%|▉| 200/202 [00:42<00:00,  5.59img2022-12-07 02:27:57,043 train.py[line:364] INFO: Checkpoint 9 saved !\n",
            "Epoch 9/25:  99%|▉| 200/202 [00:43<00:00,  4.56img\n",
            "Epoch 10/25:  18%|▏| 36/202 [00:10<00:40,  4.08img2022-12-07 02:28:08,762 train.py[line:348] INFO: Train step_460: loss : 42114.77734375,loss xy : 100.1539535522461,loss wh : 7.85888671875,loss obj : 41767.68359375，loss cls : 239.08175659179688,loss l2 : 12624.9072265625,lr : 4.477456000000001e-05\n",
            "Epoch 10/25:  57%|▌| 116/202 [00:26<00:16,  5.30im2022-12-07 02:28:24,400 train.py[line:348] INFO: Train step_480: loss : 41038.09375,loss xy : 241.83567810058594,loss wh : 29.453052520751953,loss obj : 40148.46484375，loss cls : 618.3416137695312,loss l2 : 12060.73828125,lr : 5.308415999999999e-05\n",
            "Epoch 10/25:  97%|▉| 196/202 [00:41<00:01,  5.56im2022-12-07 02:28:39,067 train.py[line:348] INFO: Train step_500: loss : 36737.68359375,loss xy : 143.87496948242188,loss wh : 29.113739013671875,loss obj : 36213.91796875，loss cls : 350.7756042480469,loss l2 : 10219.85546875,lr : 6.25e-05\n",
            "Epoch 10/25:  99%|▉| 200/202 [00:42<00:00,  5.54im2022-12-07 02:28:40,041 train.py[line:364] INFO: Checkpoint 10 saved !\n",
            "Epoch 10/25:  99%|▉| 200/202 [00:42<00:00,  4.65im\n",
            "Epoch 11/25:  38%|▍| 76/202 [00:19<00:24,  5.16img2022-12-07 02:29:00,427 train.py[line:348] INFO: Train step_520: loss : 34138.91796875,loss xy : 122.4564437866211,loss wh : 8.395593643188477,loss obj : 33720.8046875，loss cls : 287.26226806640625,loss l2 : 9071.203125,lr : 7.311616000000002e-05\n",
            "Epoch 11/25:  77%|▊| 156/202 [00:34<00:08,  5.47im2022-12-07 02:29:15,636 train.py[line:348] INFO: Train step_540: loss : 31779.615234375,loss xy : 211.94268798828125,loss wh : 13.706210136413574,loss obj : 31059.337890625，loss cls : 494.6281433105469,loss l2 : 8045.17333984375,lr : 8.503056000000002e-05\n",
            "Epoch 11/25:  99%|▉| 200/202 [00:42<00:00,  5.53im2022-12-07 02:29:23,809 train.py[line:364] INFO: Checkpoint 11 saved !\n",
            "Epoch 11/25:  99%|▉| 200/202 [00:43<00:00,  4.57im\n",
            "Epoch 12/25:  18%|▏| 36/202 [00:11<00:43,  3.84img2022-12-07 02:29:36,086 train.py[line:348] INFO: Train step_560: loss : 29253.9765625,loss xy : 159.54263305664062,loss wh : 8.344985961914062,loss obj : 28766.271484375，loss cls : 319.8181457519531,loss l2 : 7021.890625,lr : 9.834496000000003e-05\n",
            "Epoch 12/25:  57%|▌| 116/202 [00:27<00:17,  5.03im2022-12-07 02:29:51,896 train.py[line:348] INFO: Train step_580: loss : 27182.267578125,loss xy : 138.269287109375,loss wh : 7.3012237548828125,loss obj : 26767.154296875，loss cls : 269.542724609375,loss l2 : 6205.95166015625,lr : 0.00011316495999999998\n",
            "Epoch 12/25:  97%|▉| 196/202 [00:42<00:01,  5.57im2022-12-07 02:30:07,198 train.py[line:348] INFO: Train step_600: loss : 25366.064453125,loss xy : 65.04893493652344,loss wh : 4.575979709625244,loss obj : 25169.43359375，loss cls : 127.00523376464844,loss l2 : 5537.18994140625,lr : 0.0001296\n",
            "Epoch 12/25:  99%|▉| 200/202 [00:43<00:00,  5.58im2022-12-07 02:30:08,139 train.py[line:364] INFO: Checkpoint 12 saved !\n",
            "Epoch 12/25:  99%|▉| 200/202 [00:44<00:00,  4.51im\n",
            "Epoch 13/25:  38%|▍| 76/202 [00:18<00:24,  5.20img2022-12-07 02:30:27,660 train.py[line:348] INFO: Train step_620: loss : 23841.96875,loss xy : 85.07835388183594,loss wh : 5.009017467498779,loss obj : 23622.75390625，loss cls : 129.12782287597656,loss l2 : 4967.44921875,lr : 0.00014776335999999997\n",
            "Epoch 13/25:  77%|▊| 156/202 [00:33<00:08,  5.53im2022-12-07 02:30:42,692 train.py[line:348] INFO: Train step_640: loss : 22282.5,loss xy : 104.61970520019531,loss wh : 37.99427795410156,loss obj : 21948.228515625，loss cls : 191.65908813476562,loss l2 : 4479.5400390625,lr : 0.00016777216000000002\n",
            "Epoch 13/25:  99%|▉| 200/202 [00:41<00:00,  5.61im2022-12-07 02:30:50,801 train.py[line:364] INFO: Checkpoint 13 saved !\n",
            "Epoch 13/25:  99%|▉| 200/202 [00:42<00:00,  4.69im\n",
            "Epoch 14/25:  18%|▏| 36/202 [00:10<00:42,  3.89img2022-12-07 02:31:02,411 train.py[line:348] INFO: Train step_660: loss : 21042.251953125,loss xy : 84.55390930175781,loss wh : 34.32183837890625,loss obj : 20770.29296875，loss cls : 153.08474731445312,loss l2 : 4042.01318359375,lr : 0.00018974736000000004\n",
            "Epoch 14/25:  57%|▌| 116/202 [00:26<00:16,  5.29im2022-12-07 02:31:17,702 train.py[line:348] INFO: Train step_680: loss : 19796.13671875,loss xy : 247.75180053710938,loss wh : 50.40931701660156,loss obj : 19037.515625，loss cls : 460.46087646484375,loss l2 : 3637.333984375,lr : 0.0002138137600000001\n",
            "Epoch 14/25:  97%|▉| 196/202 [00:40<00:01,  5.58im2022-12-07 02:31:32,288 train.py[line:348] INFO: Train step_700: loss : 18703.48046875,loss xy : 119.700927734375,loss wh : 7.6337761878967285,loss obj : 18377.083984375，loss cls : 199.0625,loss l2 : 3269.9619140625,lr : 0.00024009999999999995\n",
            "Epoch 14/25:  99%|▉| 200/202 [00:41<00:00,  5.56im2022-12-07 02:31:33,269 train.py[line:364] INFO: Checkpoint 14 saved !\n",
            "Epoch 14/25:  99%|▉| 200/202 [00:42<00:00,  4.71im\n",
            "Epoch 15/25:  38%|▍| 76/202 [00:18<00:23,  5.27img2022-12-07 02:31:52,574 train.py[line:348] INFO: Train step_720: loss : 16638.5,loss xy : 154.13218688964844,loss wh : 3.731997489929199,loss obj : 16273.236328125，loss cls : 207.40084838867188,loss l2 : 2612.633056640625,lr : 0.00026873855999999996\n",
            "Epoch 15/25:  77%|▊| 156/202 [00:33<00:08,  5.56im2022-12-07 02:32:07,584 train.py[line:348] INFO: Train step_740: loss : 15395.693359375,loss xy : 134.93702697753906,loss wh : 5.349403381347656,loss obj : 15049.4775390625，loss cls : 205.9295654296875,loss l2 : 2287.4560546875,lr : 0.00029986575999999996\n",
            "Epoch 15/25:  99%|▉| 200/202 [00:41<00:00,  5.55im2022-12-07 02:32:15,812 train.py[line:364] INFO: Checkpoint 15 saved !\n",
            "Epoch 15/25:  99%|▉| 200/202 [00:42<00:00,  4.70im\n",
            "Epoch 16/25:  18%|▏| 36/202 [00:10<00:41,  4.00img2022-12-07 02:32:27,546 train.py[line:348] INFO: Train step_760: loss : 14012.9931640625,loss xy : 139.32469177246094,loss wh : 16.168230056762695,loss obj : 13660.845703125，loss cls : 196.65469360351562,loss l2 : 1946.41845703125,lr : 0.00033362176\n",
            "Epoch 16/25:  57%|▌| 116/202 [00:26<00:16,  5.07im2022-12-07 02:32:43,176 train.py[line:348] INFO: Train step_780: loss : 13229.3671875,loss xy : 156.381103515625,loss wh : 16.297334671020508,loss obj : 12834.8896484375，loss cls : 221.79864501953125,loss l2 : 1771.1182861328125,lr : 0.00037015056000000006\n",
            "Epoch 16/25:  97%|▉| 196/202 [00:41<00:01,  5.55im2022-12-07 02:32:57,835 train.py[line:348] INFO: Train step_800: loss : 12033.7412109375,loss xy : 112.94891357421875,loss wh : 6.4004902839660645,loss obj : 11733.18359375，loss cls : 181.20809936523438,loss l2 : 1482.5361328125,lr : 0.0004096000000000001\n",
            "Epoch 16/25:  99%|▉| 200/202 [00:42<00:00,  5.55im2022-12-07 02:32:58,826 train.py[line:364] INFO: Checkpoint 16 saved !\n",
            "Epoch 16/25:  99%|▉| 200/202 [00:43<00:00,  4.65im\n",
            "Epoch 17/25:  38%|▍| 76/202 [00:19<00:24,  5.11img2022-12-07 02:33:19,073 train.py[line:348] INFO: Train step_820: loss : 10912.7236328125,loss xy : 172.97625732421875,loss wh : 13.72406005859375,loss obj : 10486.1376953125，loss cls : 239.88609313964844,loss l2 : 1249.095947265625,lr : 0.0004521217599999999\n",
            "Epoch 17/25:  77%|▊| 156/202 [00:35<00:08,  5.25im2022-12-07 02:33:35,054 train.py[line:348] INFO: Train step_840: loss : 9889.77734375,loss xy : 153.07275390625,loss wh : 6.792157173156738,loss obj : 9531.0986328125，loss cls : 198.81300354003906,loss l2 : 1036.326904296875,lr : 0.00049787136\n",
            "Epoch 17/25:  99%|▉| 200/202 [00:43<00:00,  5.62im2022-12-07 02:33:43,401 train.py[line:364] INFO: Checkpoint 17 saved !\n",
            "Epoch 17/25:  99%|▉| 200/202 [00:44<00:00,  4.49im\n",
            "Epoch 18/25:  18%|▏| 36/202 [00:11<00:45,  3.65img2022-12-07 02:33:56,093 train.py[line:348] INFO: Train step_860: loss : 8711.95703125,loss xy : 92.83846282958984,loss wh : 3.0316126346588135,loss obj : 8485.7138671875，loss cls : 130.3728485107422,loss l2 : 811.578125,lr : 0.00054700816\n",
            "Epoch 18/25:  57%|▌| 116/202 [00:27<00:16,  5.17im2022-12-07 02:34:11,887 train.py[line:348] INFO: Train step_880: loss : 7795.08740234375,loss xy : 58.3836669921875,loss wh : 4.480924129486084,loss obj : 7655.11474609375，loss cls : 77.10783386230469,loss l2 : 661.4033203125,lr : 0.00059969536\n",
            "Epoch 18/25:  97%|▉| 196/202 [00:42<00:01,  5.56im2022-12-07 02:34:26,558 train.py[line:348] INFO: Train step_900: loss : 7207.65869140625,loss xy : 29.396406173706055,loss wh : 0.7660838961601257,loss obj : 7146.73046875，loss cls : 30.765615463256836,loss l2 : 560.2887573242188,lr : 0.0006561000000000001\n",
            "Epoch 18/25:  99%|▉| 200/202 [00:43<00:00,  5.61im2022-12-07 02:34:27,767 train.py[line:364] INFO: Checkpoint 18 saved !\n",
            "Epoch 18/25:  99%|▉| 200/202 [00:44<00:00,  4.51im\n",
            "Epoch 19/25:  38%|▍| 76/202 [00:19<00:24,  5.08img2022-12-07 02:34:47,673 train.py[line:348] INFO: Train step_920: loss : 6316.35498046875,loss xy : 65.7652359008789,loss wh : 1.55613112449646,loss obj : 6158.2890625，loss cls : 90.74465942382812,loss l2 : 444.56182861328125,lr : 0.0007163929600000001\n",
            "Epoch 19/25:  77%|▊| 156/202 [00:34<00:08,  5.39im2022-12-07 02:35:02,809 train.py[line:348] INFO: Train step_940: loss : 5590.25732421875,loss xy : 39.25762176513672,loss wh : 3.71272873878479,loss obj : 5490.15966796875，loss cls : 57.1275634765625,loss l2 : 360.4513854980469,lr : 0.0007807489599999998\n",
            "Epoch 19/25:  99%|▉| 200/202 [00:42<00:00,  5.58im2022-12-07 02:35:11,014 train.py[line:364] INFO: Checkpoint 19 saved !\n",
            "Epoch 19/25:  99%|▉| 200/202 [00:43<00:00,  4.63im\n",
            "Epoch 20/25:  18%|▏| 36/202 [00:12<00:44,  3.71img2022-12-07 02:35:24,054 train.py[line:348] INFO: Train step_960: loss : 5010.4599609375,loss xy : 56.591983795166016,loss wh : 7.271337509155273,loss obj : 4874.30224609375，loss cls : 72.294677734375,loss l2 : 302.7043762207031,lr : 0.0008493465599999999\n",
            "Epoch 20/25:  57%|▌| 116/202 [00:27<00:16,  5.31im2022-12-07 02:35:39,471 train.py[line:348] INFO: Train step_980: loss : 4691.96142578125,loss xy : 104.03401184082031,loss wh : 17.409095764160156,loss obj : 4435.78857421875，loss cls : 134.72982788085938,loss l2 : 315.9596862792969,lr : 0.0009223681599999999\n",
            "Epoch 20/25:  97%|▉| 196/202 [00:42<00:01,  5.54im2022-12-07 02:35:54,049 train.py[line:348] INFO: Train step_1000: loss : 4293.08740234375,loss xy : 166.03831481933594,loss wh : 9.498924255371094,loss obj : 3911.678955078125，loss cls : 205.87107849121094,loss l2 : 272.66424560546875,lr : 0.001\n",
            "Epoch 20/25:  99%|▉| 200/202 [00:43<00:00,  5.50im2022-12-07 02:35:55,017 train.py[line:364] INFO: Checkpoint 20 saved !\n",
            "Epoch 20/25:  99%|▉| 200/202 [00:44<00:00,  4.55im\n",
            "Epoch 21/25:  38%|▍| 76/202 [00:19<00:24,  5.15img2022-12-07 02:36:14,922 train.py[line:348] INFO: Train step_1020: loss : 3674.884521484375,loss xy : 89.45392608642578,loss wh : 4.7483015060424805,loss obj : 3473.275146484375，loss cls : 107.40721893310547,loss l2 : 186.14505004882812,lr : 0.001\n",
            "Epoch 21/25:  77%|▊| 156/202 [00:34<00:08,  5.48im2022-12-07 02:36:30,029 train.py[line:348] INFO: Train step_1040: loss : 3476.938232421875,loss xy : 129.6538543701172,loss wh : 6.1131792068481445,loss obj : 3189.433837890625，loss cls : 151.73741149902344,loss l2 : 191.3304901123047,lr : 0.001\n",
            "Epoch 21/25:  99%|▉| 200/202 [00:42<00:00,  5.52im2022-12-07 02:36:38,335 train.py[line:364] INFO: Checkpoint 21 saved !\n",
            "Epoch 21/25:  99%|▉| 200/202 [00:43<00:00,  4.62im\n",
            "Epoch 22/25:  18%|▏| 36/202 [00:11<00:44,  3.72img2022-12-07 02:36:51,067 train.py[line:348] INFO: Train step_1060: loss : 3250.2509765625,loss xy : 150.85299682617188,loss wh : 20.180938720703125,loss obj : 2909.39990234375，loss cls : 169.81707763671875,loss l2 : 213.66184997558594,lr : 0.001\n",
            "Epoch 22/25:  57%|▌| 116/202 [00:27<00:16,  5.32im2022-12-07 02:37:06,537 train.py[line:348] INFO: Train step_1080: loss : 2778.466064453125,loss xy : 75.34687042236328,loss wh : 5.146981239318848,loss obj : 2616.826904296875，loss cls : 81.14527893066406,loss l2 : 121.81131744384766,lr : 0.001\n",
            "Epoch 22/25:  97%|▉| 196/202 [00:42<00:01,  5.58im2022-12-07 02:37:21,734 train.py[line:348] INFO: Train step_1100: loss : 2680.52734375,loss xy : 124.96525573730469,loss wh : 4.735677719116211,loss obj : 2417.8212890625，loss cls : 133.0052490234375,loss l2 : 136.74557495117188,lr : 0.001\n",
            "Epoch 22/25:  99%|▉| 200/202 [00:43<00:00,  5.51im2022-12-07 02:37:22,810 train.py[line:364] INFO: Checkpoint 22 saved !\n",
            "Epoch 22/25:  99%|▉| 200/202 [00:44<00:00,  4.50im\n",
            "Epoch 23/25:  38%|▍| 76/202 [00:19<00:23,  5.25img2022-12-07 02:37:42,577 train.py[line:348] INFO: Train step_1120: loss : 2258.455322265625,loss xy : 35.91497802734375,loss wh : 2.243283748626709,loss obj : 2188.948974609375，loss cls : 31.348060607910156,loss l2 : 76.20696258544922,lr : 0.001\n",
            "Epoch 23/25:  77%|▊| 156/202 [00:34<00:08,  5.52im2022-12-07 02:37:57,833 train.py[line:348] INFO: Train step_1140: loss : 2408.894287109375,loss xy : 144.99810791015625,loss wh : 10.487218856811523,loss obj : 2100.45458984375，loss cls : 152.95425415039062,loss l2 : 138.69837951660156,lr : 0.001\n",
            "Epoch 23/25:  99%|▉| 200/202 [00:42<00:00,  5.59im2022-12-07 02:38:06,021 train.py[line:364] INFO: Checkpoint 23 saved !\n",
            "Epoch 23/25:  99%|▉| 200/202 [00:43<00:00,  4.63im\n",
            "Epoch 24/25:  18%|▏| 36/202 [00:11<00:42,  3.94img2022-12-07 02:38:18,236 train.py[line:348] INFO: Train step_1160: loss : 2045.7928466796875,loss xy : 83.70887756347656,loss wh : 5.628769397735596,loss obj : 1879.741455078125，loss cls : 76.71376037597656,loss l2 : 84.88827514648438,lr : 0.001\n",
            "Epoch 24/25:  57%|▌| 116/202 [00:26<00:17,  5.02im2022-12-07 02:38:33,616 train.py[line:348] INFO: Train step_1180: loss : 1954.40087890625,loss xy : 74.68473815917969,loss wh : 4.925515174865723,loss obj : 1791.9227294921875，loss cls : 82.86796569824219,loss l2 : 86.92884826660156,lr : 0.001\n",
            "Epoch 24/25:  97%|▉| 196/202 [00:41<00:01,  5.56im2022-12-07 02:38:48,217 train.py[line:348] INFO: Train step_1200: loss : 1800.385009765625,loss xy : 63.675716400146484,loss wh : 21.527732849121094,loss obj : 1661.95703125，loss cls : 53.224449157714844,loss l2 : 100.7203369140625,lr : 0.001\n",
            "Epoch 24/25:  99%|▉| 200/202 [00:42<00:00,  5.58im2022-12-07 02:38:49,210 train.py[line:364] INFO: Checkpoint 24 saved !\n",
            "Epoch 24/25:  99%|▉| 200/202 [00:43<00:00,  4.63im\n",
            "Epoch 25/25:  38%|▍| 76/202 [00:19<00:25,  5.03img2022-12-07 02:39:09,705 train.py[line:348] INFO: Train step_1220: loss : 1849.062744140625,loss xy : 125.650390625,loss wh : 10.391714096069336,loss obj : 1610.3187255859375，loss cls : 102.70196533203125,loss l2 : 100.51778411865234,lr : 0.001\n",
            "Epoch 25/25:  77%|▊| 156/202 [00:34<00:08,  5.57im2022-12-07 02:39:24,875 train.py[line:348] INFO: Train step_1240: loss : 1852.4964599609375,loss xy : 188.00982666015625,loss wh : 16.22190284729004,loss obj : 1499.044677734375，loss cls : 149.22007751464844,loss l2 : 120.11846923828125,lr : 0.001\n",
            "Epoch 25/25:  99%|▉| 200/202 [00:42<00:00,  5.58im2022-12-07 02:39:33,016 train.py[line:364] INFO: Checkpoint 25 saved !\n",
            "Epoch 25/25:  99%|▉| 200/202 [00:43<00:00,  4.57im\n"
          ]
        }
      ]
    },
    {
      "cell_type": "markdown",
      "metadata": {
        "id": "CeIBxTZLtiNe"
      },
      "source": [
        "# Step 07. Test the results"
      ]
    },
    {
      "cell_type": "code",
      "metadata": {
        "id": "4ekfZWXYoq6Z",
        "colab": {
          "base_uri": "https://localhost:8080/"
        },
        "outputId": "a964eb10-d0b6-462c-f6b7-bac182b768c4"
      },
      "source": [
        "# Check the trained weights\n",
        "\n",
        "!ls checkpoints\n"
      ],
      "execution_count": null,
      "outputs": [
        {
          "output_type": "stream",
          "name": "stdout",
          "text": [
            "Yolov4_epoch10.pth  Yolov4_epoch17.pth\tYolov4_epoch23.pth  Yolov4_epoch6.pth\n",
            "Yolov4_epoch11.pth  Yolov4_epoch18.pth\tYolov4_epoch24.pth  Yolov4_epoch7.pth\n",
            "Yolov4_epoch12.pth  Yolov4_epoch19.pth\tYolov4_epoch25.pth  Yolov4_epoch8.pth\n",
            "Yolov4_epoch13.pth  Yolov4_epoch1.pth\tYolov4_epoch2.pth   Yolov4_epoch9.pth\n",
            "Yolov4_epoch14.pth  Yolov4_epoch20.pth\tYolov4_epoch3.pth\n",
            "Yolov4_epoch15.pth  Yolov4_epoch21.pth\tYolov4_epoch4.pth\n",
            "Yolov4_epoch16.pth  Yolov4_epoch22.pth\tYolov4_epoch5.pth\n"
          ]
        }
      ]
    },
    {
      "cell_type": "code",
      "metadata": {
        "id": "RW6wTm8uo7i5",
        "colab": {
          "base_uri": "https://localhost:8080/"
        },
        "outputId": "756cdc2f-5884-4d59-c33d-ed8c478a0ae0"
      },
      "source": [
        "# Choose random test image\n",
        "\n",
        "import os\n",
        "test_images = [f for f in os.listdir('test') if f.endswith('.jpg')]\n",
        "import random\n",
        "img_path = \"test/\" + random.choice(test_images);\n",
        "\n",
        "print(img_path)\n"
      ],
      "execution_count": null,
      "outputs": [
        {
          "output_type": "stream",
          "name": "stdout",
          "text": [
            "test/b9402881fa580d0eb8b9b98845417550_jpg.rf.238f51ed1096107324224ade76408bdb.jpg\n"
          ]
        }
      ]
    },
    {
      "cell_type": "code",
      "metadata": {
        "id": "bCj463XZpsS8",
        "colab": {
          "base_uri": "https://localhost:8080/",
          "height": 941
        },
        "outputId": "d4084f01-2b55-4cd9-adc6-2bf1d9670e65"
      },
      "source": [
        "# Run test for a random image using a chosen checkpoints and visualization the result\n",
        "w = int(608)\n",
        "!python models.py {num_classes} checkpoints/Yolov4_epoch25.pth {img_path} test/_classes.txt\n",
        "\n",
        "from IPython.display import Image\n",
        "Image('predictions.jpg')"
      ],
      "execution_count": null,
      "outputs": [
        {
          "output_type": "stream",
          "name": "stdout",
          "text": [
            "white-pawn: 0.999431\n",
            "white-pawn: 0.999013\n",
            "white-pawn: 0.999279\n",
            "white-pawn: 0.999413\n",
            "black-pawn: 0.996355\n",
            "black-pawn: 0.999440\n",
            "black-pawn: 0.338758\n",
            "white-pawn: 0.997574\n",
            "black-pawn: 0.999272\n",
            "white-pawn: 0.487059\n",
            "black-knight: 0.325629\n",
            "white-knight: 0.256668\n",
            "white-pawn: 0.238396\n",
            "black-knight: 0.429214\n",
            "white-pawn: 0.734707\n",
            "black-pawn: 0.993085\n",
            "black-pawn: 0.994507\n",
            "black-knight: 0.387166\n",
            "black-pawn: 0.323488\n",
            "white-knight: 0.201461\n",
            "black-knight: 0.346009\n",
            "white-pawn: 0.786860\n",
            "white-queen: 0.350863\n",
            "black-pawn: 0.998252\n",
            "white-knight: 0.252185\n",
            "white-knight: 0.243382\n",
            "black-knight: 0.272857\n",
            "save plot results to predictions.jpg\n"
          ]
        },
        {
          "output_type": "execute_result",
          "data": {
            "image/jpeg": "[encoded data removed]",
            "text/plain": [
              "<IPython.core.display.Image object>"
            ]
          },
          "metadata": {},
          "execution_count": 25
        }
      ]
    },
    {
      "cell_type": "code",
      "metadata": {
        "id": "50lyyG8EAqZe",
        "colab": {
          "base_uri": "https://localhost:8080/"
        },
        "outputId": "262fae17-0a0e-4922-bb16-cda8a628802b"
      },
      "source": [
        "!pwd"
      ],
      "execution_count": null,
      "outputs": [
        {
          "output_type": "stream",
          "name": "stdout",
          "text": [
            "/content/gdrive/MyDrive/colab/pytorch-YOLOv4\n"
          ]
        }
      ]
    },
    {
      "cell_type": "code",
      "metadata": {
        "id": "0H-Zd2yl_GkL",
        "colab": {
          "base_uri": "https://localhost:8080/"
        },
        "outputId": "da22a1d5-da5c-4b3e-cfd8-6ca4fdc129d9"
      },
      "source": [
        "num_classes"
      ],
      "execution_count": null,
      "outputs": [
        {
          "output_type": "execute_result",
          "data": {
            "text/plain": [
              "12"
            ]
          },
          "metadata": {},
          "execution_count": 20
        }
      ]
    }
  ]
}